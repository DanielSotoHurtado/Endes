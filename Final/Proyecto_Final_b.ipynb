{
 "cells": [
  {
   "cell_type": "markdown",
   "metadata": {},
   "source": [
    "## <span style='color:Blue'> Parte II<span>"
   ]
  },
  {
   "cell_type": "markdown",
   "metadata": {},
   "source": [
    "### 1. Presentación del problema de predicción que se desea realizar. Defina claramente qué datos utilizara, cuál es su variable target y cuáles sus predictores. \n",
    "\n",
    "El problema consiste en predecir mayores índices de depresión en la población adulta mediante la identificación de las variables que contribuyen con una mayor vulnerabilidad ante los desórdenes depresivos. Para esto, se utilizará la información estadística proveniente de la Encuesta Demográfica y de Salud Familiar (ENDES) para los años 2020 y 2021, la cual incluye información que permite medir el padecimiento de 9 síntomas asociados a desórdenes de depresión. Para cada año se hará uso de los módulos de vivienda, antecedentes individuales y salud correspondientes a los cuestionarios del hogar, individual y salud respectivamente.\n",
    "\n",
    "La variable dependiente representa un **puntaje de síntomas de depresión en los últimos 14 días**, construido a partir de 9 preguntas que miden diferentes dimensiones de dicho fenómeno. Las variables predictores abarcan desde los indicadores sociales vinculados a la condición de la vivienda, como acceso a servicios básicos (agua, luz, desagüe); antecedentes de la persona entrevistada, como sexo, edad, grado de educación alcanzado, identificación étnica, región donde vive; hasta la condición, hábitos y cuidados de salud, como presencia de enfermedades crónicas, infecciosas, consumo de cigarrillos, afiliación a un seguro de salud, etc."
   ]
  },
  {
   "cell_type": "markdown",
   "metadata": {},
   "source": [
    "### 2. Describa los pasos a realizar para su aplicación de ML. \n",
    "\n",
    "(1) En primer lugar, se cargarán las diferentes bases de datos correspondientes a los años 2020 y 2021. (2) En segundo lugar, se procederá a la unión de las bases de datos por cada año. (3) Una vez obtenidas las bases unidas por año, se realizará la limpieza, selección y transformación de las variables relevantes para el estudio. En esta fase, se contruirá la variable dependiente **índice de depresión en los últimos 14 días**'. Asimismo, se eliminarán registros que contengan valores perdidos y variables no relevantes o con gran cantidad de NaN. (4) En cuarto lugar, las bases unidas de cada año serán apiladas (5) lo que permitirá, llevar cabo un análisis exploratorio de la variable construida así como de las variables predictoras. Esto incluirá tanto tablas como gráficos. (6) Las variables predictoras y  la variable dependiente serán transformada y escaladas para ser incorporadas en el modelo de aprendizaje estadístico. Aquí dichas variables serán convertidas en *arrays*. (7) Se dividirá la base final en conjuntos de entrenamiento y prueba, y se aplicará una validación cruzada. (8) Se ajustará el modelo de regresión (9) finalmente, se predecirán valores usando los datos de prueba y secompararán resultados según diferentes parámetros.\n",
    "\n",
    "El método elegido es la **Regresión Lasso**, el cual tiene la virtud de mejorar tanto la exactitud como la interpretabilidad del modelo estadístico, mediante la selección y regularización de variables. "
   ]
  },
  {
   "cell_type": "markdown",
   "metadata": {},
   "source": [
    "### 3. Describa cómo llevaría a cabo este ejercicio de manera paralela y compárelo a su aplicación serial. Como parte de esta descripción, incluir los siguientes aspectos: \n",
    "\n",
    "#### a. Explicar qué partes del ejercicio se harán de forma serial y por qué no paralelizo estas tareas.\n",
    "\n",
    "La importación, unión y preparación de las bases de datos y selección de variables (1,2,3) será ejecutada de forma paralela para cada año. Por cada año serán importadas 5 bases, las cuales serán unidas mediante el comando 'merge'. Después de obtener la base unida por cada año se procederá a seleccionar las variables relevantes. Se construirá el índice de depresión para cada una de ellas. \n",
    "\n",
    "Terminado este paso, las bases unidas de cada año serán apiladas en una sola base lo que permitira calcular estadísticos de resumen para las principales variables. Esta fase como la siguiente será de carácter serial: se llevará a cabo un análisis exploratorio del índice de depresión  en base a las principales variables demográficas. Dicho análisis incluirá la elaboración de gráficos (4,5).\n",
    "\n",
    "La incorporación al modelo de las variables predictoras y objetivo será ejecutada de forma serial\n",
    "\n",
    "#### b. Para las tareas en paralelo, explique usando el método de Foster como se dan las etapas de partición, comunicación, aglomeración y mapeo (PCAM) para su aplicación.\n",
    "#### c. Discuta qué tipos de procesadores podría utilizar para cada parte. (No es necesario que utilice los GPU pese a que señale su mejor desempeño)\n",
    "#### d. Identificar los cuellos de botella del ejercicio y comente hasta qué punto la paralelización puede ayudar a resolverlos."
   ]
  },
  {
   "cell_type": "markdown",
   "metadata": {
    "id": "UV1cInDqsDxV"
   },
   "source": [
    "# **Código en Python**"
   ]
  },
  {
   "cell_type": "code",
   "execution_count": 13,
   "metadata": {
    "id": "1ozC5JYmuKk9"
   },
   "outputs": [],
   "source": [
    "import os\n",
    "os.chdir(r'C:\\Users\\Liliana\\Documents\\GitHub\\Endes\\Final')"
   ]
  },
  {
   "cell_type": "code",
   "execution_count": 10,
   "metadata": {},
   "outputs": [
    {
     "name": "stderr",
     "output_type": "stream",
     "text": [
      "C:\\Anaconda\\lib\\site-packages\\dask\\dataframe\\utils.py:369: FutureWarning: pandas.Int64Index is deprecated and will be removed from pandas in a future version. Use pandas.Index with the appropriate dtype instead.\n",
      "  _numeric_index_types = (pd.Int64Index, pd.Float64Index, pd.UInt64Index)\n",
      "C:\\Anaconda\\lib\\site-packages\\dask\\dataframe\\utils.py:369: FutureWarning: pandas.Float64Index is deprecated and will be removed from pandas in a future version. Use pandas.Index with the appropriate dtype instead.\n",
      "  _numeric_index_types = (pd.Int64Index, pd.Float64Index, pd.UInt64Index)\n",
      "C:\\Anaconda\\lib\\site-packages\\dask\\dataframe\\utils.py:369: FutureWarning: pandas.UInt64Index is deprecated and will be removed from pandas in a future version. Use pandas.Index with the appropriate dtype instead.\n",
      "  _numeric_index_types = (pd.Int64Index, pd.Float64Index, pd.UInt64Index)\n"
     ]
    }
   ],
   "source": [
    "import numpy as np\n",
    "import pandas as pd\n",
    "import matplotlib.pyplot as plt\n",
    "import sklearn\n",
    "import joblib\n",
    "import dask\n",
    "import graphviz\n",
    "from dask.distributed import Client, LocalCluster\n",
    "import dask.array as da\n",
    "import dask.dataframe as dd"
   ]
  },
  {
   "cell_type": "code",
   "execution_count": 22,
   "metadata": {
    "id": "HBnMsfSusfE6"
   },
   "outputs": [
    {
     "name": "stdout",
     "output_type": "stream",
     "text": [
      "<Client: 'tcp://127.0.0.1:49470' processes=3 threads=6, memory=7.78 GiB>\n"
     ]
    }
   ],
   "source": [
    "client= Client(\n",
    "    processes = True,\n",
    "    n_workers = 3,\n",
    "    threads_per_worker= 2\n",
    ")\n",
    "print(client)"
   ]
  },
  {
   "cell_type": "code",
   "execution_count": null,
   "metadata": {
    "id": "E9WkrtuxYWH0"
   },
   "outputs": [],
   "source": [
    "# Cargar bases\n",
    "DD_RECH0 = dd.read_csv(\"../_data/RECH0_*.csv\", encoding= \"ISO-8859-1\")"
   ]
  },
  {
   "cell_type": "code",
   "execution_count": 26,
   "metadata": {
    "id": "E9WkrtuxYWH0"
   },
   "outputs": [],
   "source": [
    "DD_RECH1 = dd.read_csv(\"../_data/RECH1_*.csv\", encoding= \"ISO-8859-1\", dtype={'HV105': 'object',\n",
    "       'HV107': 'object',\n",
    "       'HV123': 'object',\n",
    "       'HV124': 'object',\n",
    "       'HV127': 'object',\n",
    "       'HV128': 'object',\n",
    "       'QH25B': 'object'})"
   ]
  },
  {
   "cell_type": "code",
   "execution_count": 29,
   "metadata": {
    "id": "E9WkrtuxYWH0"
   },
   "outputs": [],
   "source": [
    "DD_RECH4 = dd.read_csv(\"../_data/RECH4_*.csv\", encoding= \"ISO-8859-1\",dtype={'SH15G': 'object',\n",
    "       'SH18G': 'object',\n",
    "       'SH20G': 'object'})"
   ]
  },
  {
   "cell_type": "code",
   "execution_count": 18,
   "metadata": {
    "id": "E9WkrtuxYWH0"
   },
   "outputs": [],
   "source": [
    "DD_RECH23 = dd.read_csv(\"../_data/RECH23_*.csv\", encoding= \"ISO-8859-1\")\n",
    "DD_CSALUD = dd.read_csv(\"../_data/Bases/CSALUD01_*.csv\", encoding= \"ISO-8859-1\")"
   ]
  },
  {
   "cell_type": "code",
   "execution_count": null,
   "metadata": {},
   "outputs": [],
   "source": []
  },
  {
   "cell_type": "code",
   "execution_count": 31,
   "metadata": {},
   "outputs": [
    {
     "ename": "ValueError",
     "evalue": "Length mismatch: Expected axis has 23 elements, new values have 22 elements",
     "output_type": "error",
     "traceback": [
      "\u001b[1;31m---------------------------------------------------------------------------\u001b[0m",
      "\u001b[1;31mValueError\u001b[0m                                Traceback (most recent call last)",
      "\u001b[1;32m<ipython-input-31-dcf85e50c748>\u001b[0m in \u001b[0;36m<module>\u001b[1;34m\u001b[0m\n\u001b[1;32m----> 1\u001b[1;33m \u001b[0mDD_RECH4\u001b[0m\u001b[1;33m.\u001b[0m\u001b[0mtail\u001b[0m\u001b[1;33m(\u001b[0m\u001b[1;33m)\u001b[0m\u001b[1;33m\u001b[0m\u001b[1;33m\u001b[0m\u001b[0m\n\u001b[0m",
      "\u001b[1;32mC:\\Anaconda\\lib\\site-packages\\dask\\dataframe\\core.py\u001b[0m in \u001b[0;36mtail\u001b[1;34m(self, n, compute)\u001b[0m\n\u001b[0;32m   1095\u001b[0m \u001b[1;33m\u001b[0m\u001b[0m\n\u001b[0;32m   1096\u001b[0m         \u001b[1;32mif\u001b[0m \u001b[0mcompute\u001b[0m\u001b[1;33m:\u001b[0m\u001b[1;33m\u001b[0m\u001b[1;33m\u001b[0m\u001b[0m\n\u001b[1;32m-> 1097\u001b[1;33m             \u001b[0mresult\u001b[0m \u001b[1;33m=\u001b[0m \u001b[0mresult\u001b[0m\u001b[1;33m.\u001b[0m\u001b[0mcompute\u001b[0m\u001b[1;33m(\u001b[0m\u001b[1;33m)\u001b[0m\u001b[1;33m\u001b[0m\u001b[1;33m\u001b[0m\u001b[0m\n\u001b[0m\u001b[0;32m   1098\u001b[0m         \u001b[1;32mreturn\u001b[0m \u001b[0mresult\u001b[0m\u001b[1;33m\u001b[0m\u001b[1;33m\u001b[0m\u001b[0m\n\u001b[0;32m   1099\u001b[0m \u001b[1;33m\u001b[0m\u001b[0m\n",
      "\u001b[1;32mC:\\Anaconda\\lib\\site-packages\\dask\\base.py\u001b[0m in \u001b[0;36mcompute\u001b[1;34m(self, **kwargs)\u001b[0m\n\u001b[0;32m    282\u001b[0m         \u001b[0mdask\u001b[0m\u001b[1;33m.\u001b[0m\u001b[0mbase\u001b[0m\u001b[1;33m.\u001b[0m\u001b[0mcompute\u001b[0m\u001b[1;33m\u001b[0m\u001b[1;33m\u001b[0m\u001b[0m\n\u001b[0;32m    283\u001b[0m         \"\"\"\n\u001b[1;32m--> 284\u001b[1;33m         \u001b[1;33m(\u001b[0m\u001b[0mresult\u001b[0m\u001b[1;33m,\u001b[0m\u001b[1;33m)\u001b[0m \u001b[1;33m=\u001b[0m \u001b[0mcompute\u001b[0m\u001b[1;33m(\u001b[0m\u001b[0mself\u001b[0m\u001b[1;33m,\u001b[0m \u001b[0mtraverse\u001b[0m\u001b[1;33m=\u001b[0m\u001b[1;32mFalse\u001b[0m\u001b[1;33m,\u001b[0m \u001b[1;33m**\u001b[0m\u001b[0mkwargs\u001b[0m\u001b[1;33m)\u001b[0m\u001b[1;33m\u001b[0m\u001b[1;33m\u001b[0m\u001b[0m\n\u001b[0m\u001b[0;32m    285\u001b[0m         \u001b[1;32mreturn\u001b[0m \u001b[0mresult\u001b[0m\u001b[1;33m\u001b[0m\u001b[1;33m\u001b[0m\u001b[0m\n\u001b[0;32m    286\u001b[0m \u001b[1;33m\u001b[0m\u001b[0m\n",
      "\u001b[1;32mC:\\Anaconda\\lib\\site-packages\\dask\\base.py\u001b[0m in \u001b[0;36mcompute\u001b[1;34m(*args, **kwargs)\u001b[0m\n\u001b[0;32m    564\u001b[0m         \u001b[0mpostcomputes\u001b[0m\u001b[1;33m.\u001b[0m\u001b[0mappend\u001b[0m\u001b[1;33m(\u001b[0m\u001b[0mx\u001b[0m\u001b[1;33m.\u001b[0m\u001b[0m__dask_postcompute__\u001b[0m\u001b[1;33m(\u001b[0m\u001b[1;33m)\u001b[0m\u001b[1;33m)\u001b[0m\u001b[1;33m\u001b[0m\u001b[1;33m\u001b[0m\u001b[0m\n\u001b[0;32m    565\u001b[0m \u001b[1;33m\u001b[0m\u001b[0m\n\u001b[1;32m--> 566\u001b[1;33m     \u001b[0mresults\u001b[0m \u001b[1;33m=\u001b[0m \u001b[0mschedule\u001b[0m\u001b[1;33m(\u001b[0m\u001b[0mdsk\u001b[0m\u001b[1;33m,\u001b[0m \u001b[0mkeys\u001b[0m\u001b[1;33m,\u001b[0m \u001b[1;33m**\u001b[0m\u001b[0mkwargs\u001b[0m\u001b[1;33m)\u001b[0m\u001b[1;33m\u001b[0m\u001b[1;33m\u001b[0m\u001b[0m\n\u001b[0m\u001b[0;32m    567\u001b[0m     \u001b[1;32mreturn\u001b[0m \u001b[0mrepack\u001b[0m\u001b[1;33m(\u001b[0m\u001b[1;33m[\u001b[0m\u001b[0mf\u001b[0m\u001b[1;33m(\u001b[0m\u001b[0mr\u001b[0m\u001b[1;33m,\u001b[0m \u001b[1;33m*\u001b[0m\u001b[0ma\u001b[0m\u001b[1;33m)\u001b[0m \u001b[1;32mfor\u001b[0m \u001b[0mr\u001b[0m\u001b[1;33m,\u001b[0m \u001b[1;33m(\u001b[0m\u001b[0mf\u001b[0m\u001b[1;33m,\u001b[0m \u001b[0ma\u001b[0m\u001b[1;33m)\u001b[0m \u001b[1;32min\u001b[0m \u001b[0mzip\u001b[0m\u001b[1;33m(\u001b[0m\u001b[0mresults\u001b[0m\u001b[1;33m,\u001b[0m \u001b[0mpostcomputes\u001b[0m\u001b[1;33m)\u001b[0m\u001b[1;33m]\u001b[0m\u001b[1;33m)\u001b[0m\u001b[1;33m\u001b[0m\u001b[1;33m\u001b[0m\u001b[0m\n\u001b[0;32m    568\u001b[0m \u001b[1;33m\u001b[0m\u001b[0m\n",
      "\u001b[1;32mC:\\Anaconda\\lib\\site-packages\\distributed\\client.py\u001b[0m in \u001b[0;36mget\u001b[1;34m(self, dsk, keys, workers, allow_other_workers, resources, sync, asynchronous, direct, retries, priority, fifo_timeout, actors, **kwargs)\u001b[0m\n\u001b[0;32m   2664\u001b[0m                     \u001b[0mshould_rejoin\u001b[0m \u001b[1;33m=\u001b[0m \u001b[1;32mFalse\u001b[0m\u001b[1;33m\u001b[0m\u001b[1;33m\u001b[0m\u001b[0m\n\u001b[0;32m   2665\u001b[0m             \u001b[1;32mtry\u001b[0m\u001b[1;33m:\u001b[0m\u001b[1;33m\u001b[0m\u001b[1;33m\u001b[0m\u001b[0m\n\u001b[1;32m-> 2666\u001b[1;33m                 \u001b[0mresults\u001b[0m \u001b[1;33m=\u001b[0m \u001b[0mself\u001b[0m\u001b[1;33m.\u001b[0m\u001b[0mgather\u001b[0m\u001b[1;33m(\u001b[0m\u001b[0mpacked\u001b[0m\u001b[1;33m,\u001b[0m \u001b[0masynchronous\u001b[0m\u001b[1;33m=\u001b[0m\u001b[0masynchronous\u001b[0m\u001b[1;33m,\u001b[0m \u001b[0mdirect\u001b[0m\u001b[1;33m=\u001b[0m\u001b[0mdirect\u001b[0m\u001b[1;33m)\u001b[0m\u001b[1;33m\u001b[0m\u001b[1;33m\u001b[0m\u001b[0m\n\u001b[0m\u001b[0;32m   2667\u001b[0m             \u001b[1;32mfinally\u001b[0m\u001b[1;33m:\u001b[0m\u001b[1;33m\u001b[0m\u001b[1;33m\u001b[0m\u001b[0m\n\u001b[0;32m   2668\u001b[0m                 \u001b[1;32mfor\u001b[0m \u001b[0mf\u001b[0m \u001b[1;32min\u001b[0m \u001b[0mfutures\u001b[0m\u001b[1;33m.\u001b[0m\u001b[0mvalues\u001b[0m\u001b[1;33m(\u001b[0m\u001b[1;33m)\u001b[0m\u001b[1;33m:\u001b[0m\u001b[1;33m\u001b[0m\u001b[1;33m\u001b[0m\u001b[0m\n",
      "\u001b[1;32mC:\\Anaconda\\lib\\site-packages\\distributed\\client.py\u001b[0m in \u001b[0;36mgather\u001b[1;34m(self, futures, errors, direct, asynchronous)\u001b[0m\n\u001b[0;32m   1973\u001b[0m             \u001b[1;32melse\u001b[0m\u001b[1;33m:\u001b[0m\u001b[1;33m\u001b[0m\u001b[1;33m\u001b[0m\u001b[0m\n\u001b[0;32m   1974\u001b[0m                 \u001b[0mlocal_worker\u001b[0m \u001b[1;33m=\u001b[0m \u001b[1;32mNone\u001b[0m\u001b[1;33m\u001b[0m\u001b[1;33m\u001b[0m\u001b[0m\n\u001b[1;32m-> 1975\u001b[1;33m             return self.sync(\n\u001b[0m\u001b[0;32m   1976\u001b[0m                 \u001b[0mself\u001b[0m\u001b[1;33m.\u001b[0m\u001b[0m_gather\u001b[0m\u001b[1;33m,\u001b[0m\u001b[1;33m\u001b[0m\u001b[1;33m\u001b[0m\u001b[0m\n\u001b[0;32m   1977\u001b[0m                 \u001b[0mfutures\u001b[0m\u001b[1;33m,\u001b[0m\u001b[1;33m\u001b[0m\u001b[1;33m\u001b[0m\u001b[0m\n",
      "\u001b[1;32mC:\\Anaconda\\lib\\site-packages\\distributed\\client.py\u001b[0m in \u001b[0;36msync\u001b[1;34m(self, func, asynchronous, callback_timeout, *args, **kwargs)\u001b[0m\n\u001b[0;32m    841\u001b[0m             \u001b[1;32mreturn\u001b[0m \u001b[0mfuture\u001b[0m\u001b[1;33m\u001b[0m\u001b[1;33m\u001b[0m\u001b[0m\n\u001b[0;32m    842\u001b[0m         \u001b[1;32melse\u001b[0m\u001b[1;33m:\u001b[0m\u001b[1;33m\u001b[0m\u001b[1;33m\u001b[0m\u001b[0m\n\u001b[1;32m--> 843\u001b[1;33m             return sync(\n\u001b[0m\u001b[0;32m    844\u001b[0m                 \u001b[0mself\u001b[0m\u001b[1;33m.\u001b[0m\u001b[0mloop\u001b[0m\u001b[1;33m,\u001b[0m \u001b[0mfunc\u001b[0m\u001b[1;33m,\u001b[0m \u001b[1;33m*\u001b[0m\u001b[0margs\u001b[0m\u001b[1;33m,\u001b[0m \u001b[0mcallback_timeout\u001b[0m\u001b[1;33m=\u001b[0m\u001b[0mcallback_timeout\u001b[0m\u001b[1;33m,\u001b[0m \u001b[1;33m**\u001b[0m\u001b[0mkwargs\u001b[0m\u001b[1;33m\u001b[0m\u001b[1;33m\u001b[0m\u001b[0m\n\u001b[0;32m    845\u001b[0m             )\n",
      "\u001b[1;32mC:\\Anaconda\\lib\\site-packages\\distributed\\utils.py\u001b[0m in \u001b[0;36msync\u001b[1;34m(loop, func, callback_timeout, *args, **kwargs)\u001b[0m\n\u001b[0;32m    351\u001b[0m     \u001b[1;32mif\u001b[0m \u001b[0merror\u001b[0m\u001b[1;33m[\u001b[0m\u001b[1;36m0\u001b[0m\u001b[1;33m]\u001b[0m\u001b[1;33m:\u001b[0m\u001b[1;33m\u001b[0m\u001b[1;33m\u001b[0m\u001b[0m\n\u001b[0;32m    352\u001b[0m         \u001b[0mtyp\u001b[0m\u001b[1;33m,\u001b[0m \u001b[0mexc\u001b[0m\u001b[1;33m,\u001b[0m \u001b[0mtb\u001b[0m \u001b[1;33m=\u001b[0m \u001b[0merror\u001b[0m\u001b[1;33m[\u001b[0m\u001b[1;36m0\u001b[0m\u001b[1;33m]\u001b[0m\u001b[1;33m\u001b[0m\u001b[1;33m\u001b[0m\u001b[0m\n\u001b[1;32m--> 353\u001b[1;33m         \u001b[1;32mraise\u001b[0m \u001b[0mexc\u001b[0m\u001b[1;33m.\u001b[0m\u001b[0mwith_traceback\u001b[0m\u001b[1;33m(\u001b[0m\u001b[0mtb\u001b[0m\u001b[1;33m)\u001b[0m\u001b[1;33m\u001b[0m\u001b[1;33m\u001b[0m\u001b[0m\n\u001b[0m\u001b[0;32m    354\u001b[0m     \u001b[1;32melse\u001b[0m\u001b[1;33m:\u001b[0m\u001b[1;33m\u001b[0m\u001b[1;33m\u001b[0m\u001b[0m\n\u001b[0;32m    355\u001b[0m         \u001b[1;32mreturn\u001b[0m \u001b[0mresult\u001b[0m\u001b[1;33m[\u001b[0m\u001b[1;36m0\u001b[0m\u001b[1;33m]\u001b[0m\u001b[1;33m\u001b[0m\u001b[1;33m\u001b[0m\u001b[0m\n",
      "\u001b[1;32mC:\\Anaconda\\lib\\site-packages\\distributed\\utils.py\u001b[0m in \u001b[0;36mf\u001b[1;34m()\u001b[0m\n\u001b[0;32m    334\u001b[0m             \u001b[1;32mif\u001b[0m \u001b[0mcallback_timeout\u001b[0m \u001b[1;32mis\u001b[0m \u001b[1;32mnot\u001b[0m \u001b[1;32mNone\u001b[0m\u001b[1;33m:\u001b[0m\u001b[1;33m\u001b[0m\u001b[1;33m\u001b[0m\u001b[0m\n\u001b[0;32m    335\u001b[0m                 \u001b[0mfuture\u001b[0m \u001b[1;33m=\u001b[0m \u001b[0masyncio\u001b[0m\u001b[1;33m.\u001b[0m\u001b[0mwait_for\u001b[0m\u001b[1;33m(\u001b[0m\u001b[0mfuture\u001b[0m\u001b[1;33m,\u001b[0m \u001b[0mcallback_timeout\u001b[0m\u001b[1;33m)\u001b[0m\u001b[1;33m\u001b[0m\u001b[1;33m\u001b[0m\u001b[0m\n\u001b[1;32m--> 336\u001b[1;33m             \u001b[0mresult\u001b[0m\u001b[1;33m[\u001b[0m\u001b[1;36m0\u001b[0m\u001b[1;33m]\u001b[0m \u001b[1;33m=\u001b[0m \u001b[1;32myield\u001b[0m \u001b[0mfuture\u001b[0m\u001b[1;33m\u001b[0m\u001b[1;33m\u001b[0m\u001b[0m\n\u001b[0m\u001b[0;32m    337\u001b[0m         \u001b[1;32mexcept\u001b[0m \u001b[0mException\u001b[0m \u001b[1;32mas\u001b[0m \u001b[0mexc\u001b[0m\u001b[1;33m:\u001b[0m\u001b[1;33m\u001b[0m\u001b[1;33m\u001b[0m\u001b[0m\n\u001b[0;32m    338\u001b[0m             \u001b[0merror\u001b[0m\u001b[1;33m[\u001b[0m\u001b[1;36m0\u001b[0m\u001b[1;33m]\u001b[0m \u001b[1;33m=\u001b[0m \u001b[0msys\u001b[0m\u001b[1;33m.\u001b[0m\u001b[0mexc_info\u001b[0m\u001b[1;33m(\u001b[0m\u001b[1;33m)\u001b[0m\u001b[1;33m\u001b[0m\u001b[1;33m\u001b[0m\u001b[0m\n",
      "\u001b[1;32mC:\\Anaconda\\lib\\site-packages\\tornado\\gen.py\u001b[0m in \u001b[0;36mrun\u001b[1;34m(self)\u001b[0m\n\u001b[0;32m    760\u001b[0m \u001b[1;33m\u001b[0m\u001b[0m\n\u001b[0;32m    761\u001b[0m                     \u001b[1;32mtry\u001b[0m\u001b[1;33m:\u001b[0m\u001b[1;33m\u001b[0m\u001b[1;33m\u001b[0m\u001b[0m\n\u001b[1;32m--> 762\u001b[1;33m                         \u001b[0mvalue\u001b[0m \u001b[1;33m=\u001b[0m \u001b[0mfuture\u001b[0m\u001b[1;33m.\u001b[0m\u001b[0mresult\u001b[0m\u001b[1;33m(\u001b[0m\u001b[1;33m)\u001b[0m\u001b[1;33m\u001b[0m\u001b[1;33m\u001b[0m\u001b[0m\n\u001b[0m\u001b[0;32m    763\u001b[0m                     \u001b[1;32mexcept\u001b[0m \u001b[0mException\u001b[0m\u001b[1;33m:\u001b[0m\u001b[1;33m\u001b[0m\u001b[1;33m\u001b[0m\u001b[0m\n\u001b[0;32m    764\u001b[0m                         \u001b[0mexc_info\u001b[0m \u001b[1;33m=\u001b[0m \u001b[0msys\u001b[0m\u001b[1;33m.\u001b[0m\u001b[0mexc_info\u001b[0m\u001b[1;33m(\u001b[0m\u001b[1;33m)\u001b[0m\u001b[1;33m\u001b[0m\u001b[1;33m\u001b[0m\u001b[0m\n",
      "\u001b[1;32mC:\\Anaconda\\lib\\site-packages\\distributed\\client.py\u001b[0m in \u001b[0;36m_gather\u001b[1;34m(self, futures, errors, direct, local_worker)\u001b[0m\n\u001b[0;32m   1838\u001b[0m                             \u001b[0mexc\u001b[0m \u001b[1;33m=\u001b[0m \u001b[0mCancelledError\u001b[0m\u001b[1;33m(\u001b[0m\u001b[0mkey\u001b[0m\u001b[1;33m)\u001b[0m\u001b[1;33m\u001b[0m\u001b[1;33m\u001b[0m\u001b[0m\n\u001b[0;32m   1839\u001b[0m                         \u001b[1;32melse\u001b[0m\u001b[1;33m:\u001b[0m\u001b[1;33m\u001b[0m\u001b[1;33m\u001b[0m\u001b[0m\n\u001b[1;32m-> 1840\u001b[1;33m                             \u001b[1;32mraise\u001b[0m \u001b[0mexception\u001b[0m\u001b[1;33m.\u001b[0m\u001b[0mwith_traceback\u001b[0m\u001b[1;33m(\u001b[0m\u001b[0mtraceback\u001b[0m\u001b[1;33m)\u001b[0m\u001b[1;33m\u001b[0m\u001b[1;33m\u001b[0m\u001b[0m\n\u001b[0m\u001b[0;32m   1841\u001b[0m                         \u001b[1;32mraise\u001b[0m \u001b[0mexc\u001b[0m\u001b[1;33m\u001b[0m\u001b[1;33m\u001b[0m\u001b[0m\n\u001b[0;32m   1842\u001b[0m                     \u001b[1;32mif\u001b[0m \u001b[0merrors\u001b[0m \u001b[1;33m==\u001b[0m \u001b[1;34m\"skip\"\u001b[0m\u001b[1;33m:\u001b[0m\u001b[1;33m\u001b[0m\u001b[1;33m\u001b[0m\u001b[0m\n",
      "\u001b[1;32mC:\\Anaconda\\lib\\site-packages\\dask\\dataframe\\io\\csv.py\u001b[0m in \u001b[0;36mpandas_read_text\u001b[1;34m()\u001b[0m\n\u001b[0;32m    158\u001b[0m         \u001b[1;32mraise\u001b[0m \u001b[0mValueError\u001b[0m\u001b[1;33m(\u001b[0m\u001b[1;34m\"Columns do not match\"\u001b[0m\u001b[1;33m,\u001b[0m \u001b[0mdf\u001b[0m\u001b[1;33m.\u001b[0m\u001b[0mcolumns\u001b[0m\u001b[1;33m,\u001b[0m \u001b[0mcolumns\u001b[0m\u001b[1;33m)\u001b[0m\u001b[1;33m\u001b[0m\u001b[1;33m\u001b[0m\u001b[0m\n\u001b[0;32m    159\u001b[0m     \u001b[1;32melif\u001b[0m \u001b[0mcolumns\u001b[0m\u001b[1;33m:\u001b[0m\u001b[1;33m\u001b[0m\u001b[1;33m\u001b[0m\u001b[0m\n\u001b[1;32m--> 160\u001b[1;33m         \u001b[0mdf\u001b[0m\u001b[1;33m.\u001b[0m\u001b[0mcolumns\u001b[0m \u001b[1;33m=\u001b[0m \u001b[0mcolumns\u001b[0m\u001b[1;33m\u001b[0m\u001b[1;33m\u001b[0m\u001b[0m\n\u001b[0m\u001b[0;32m    161\u001b[0m     \u001b[1;32mif\u001b[0m \u001b[0mpath\u001b[0m\u001b[1;33m:\u001b[0m\u001b[1;33m\u001b[0m\u001b[1;33m\u001b[0m\u001b[0m\n\u001b[0;32m    162\u001b[0m         \u001b[0mcolname\u001b[0m\u001b[1;33m,\u001b[0m \u001b[0mpath\u001b[0m\u001b[1;33m,\u001b[0m \u001b[0mpaths\u001b[0m \u001b[1;33m=\u001b[0m \u001b[0mpath\u001b[0m\u001b[1;33m\u001b[0m\u001b[1;33m\u001b[0m\u001b[0m\n",
      "\u001b[1;32mC:\\Anaconda\\lib\\site-packages\\pandas\\core\\generic.py\u001b[0m in \u001b[0;36m__setattr__\u001b[1;34m()\u001b[0m\n\u001b[0;32m   5594\u001b[0m         \u001b[1;32mtry\u001b[0m\u001b[1;33m:\u001b[0m\u001b[1;33m\u001b[0m\u001b[1;33m\u001b[0m\u001b[0m\n\u001b[0;32m   5595\u001b[0m             \u001b[0mobject\u001b[0m\u001b[1;33m.\u001b[0m\u001b[0m__getattribute__\u001b[0m\u001b[1;33m(\u001b[0m\u001b[0mself\u001b[0m\u001b[1;33m,\u001b[0m \u001b[0mname\u001b[0m\u001b[1;33m)\u001b[0m\u001b[1;33m\u001b[0m\u001b[1;33m\u001b[0m\u001b[0m\n\u001b[1;32m-> 5596\u001b[1;33m             \u001b[1;32mreturn\u001b[0m \u001b[0mobject\u001b[0m\u001b[1;33m.\u001b[0m\u001b[0m__setattr__\u001b[0m\u001b[1;33m(\u001b[0m\u001b[0mself\u001b[0m\u001b[1;33m,\u001b[0m \u001b[0mname\u001b[0m\u001b[1;33m,\u001b[0m \u001b[0mvalue\u001b[0m\u001b[1;33m)\u001b[0m\u001b[1;33m\u001b[0m\u001b[1;33m\u001b[0m\u001b[0m\n\u001b[0m\u001b[0;32m   5597\u001b[0m         \u001b[1;32mexcept\u001b[0m \u001b[0mAttributeError\u001b[0m\u001b[1;33m:\u001b[0m\u001b[1;33m\u001b[0m\u001b[1;33m\u001b[0m\u001b[0m\n\u001b[0;32m   5598\u001b[0m             \u001b[1;32mpass\u001b[0m\u001b[1;33m\u001b[0m\u001b[1;33m\u001b[0m\u001b[0m\n",
      "\u001b[1;32mC:\\Anaconda\\lib\\site-packages\\pandas\\_libs\\properties.pyx\u001b[0m in \u001b[0;36mpandas._libs.properties.AxisProperty.__set__\u001b[1;34m()\u001b[0m\n\u001b[0;32m     68\u001b[0m \u001b[1;33m\u001b[0m\u001b[0m\n\u001b[0;32m     69\u001b[0m     \u001b[1;32mdef\u001b[0m \u001b[0m__set__\u001b[0m\u001b[1;33m(\u001b[0m\u001b[0mself\u001b[0m\u001b[1;33m,\u001b[0m \u001b[0mobj\u001b[0m\u001b[1;33m,\u001b[0m \u001b[0mvalue\u001b[0m\u001b[1;33m)\u001b[0m\u001b[1;33m:\u001b[0m\u001b[1;33m\u001b[0m\u001b[1;33m\u001b[0m\u001b[0m\n\u001b[1;32m---> 70\u001b[1;33m         \u001b[0mobj\u001b[0m\u001b[1;33m.\u001b[0m\u001b[0m_set_axis\u001b[0m\u001b[1;33m(\u001b[0m\u001b[0mself\u001b[0m\u001b[1;33m.\u001b[0m\u001b[0maxis\u001b[0m\u001b[1;33m,\u001b[0m \u001b[0mvalue\u001b[0m\u001b[1;33m)\u001b[0m\u001b[1;33m\u001b[0m\u001b[1;33m\u001b[0m\u001b[0m\n\u001b[0m",
      "\u001b[1;32mC:\\Anaconda\\lib\\site-packages\\pandas\\core\\generic.py\u001b[0m in \u001b[0;36m_set_axis\u001b[1;34m()\u001b[0m\n\u001b[0;32m    767\u001b[0m     \u001b[1;32mdef\u001b[0m \u001b[0m_set_axis\u001b[0m\u001b[1;33m(\u001b[0m\u001b[0mself\u001b[0m\u001b[1;33m,\u001b[0m \u001b[0maxis\u001b[0m\u001b[1;33m:\u001b[0m \u001b[0mint\u001b[0m\u001b[1;33m,\u001b[0m \u001b[0mlabels\u001b[0m\u001b[1;33m:\u001b[0m \u001b[0mIndex\u001b[0m\u001b[1;33m)\u001b[0m \u001b[1;33m->\u001b[0m \u001b[1;32mNone\u001b[0m\u001b[1;33m:\u001b[0m\u001b[1;33m\u001b[0m\u001b[1;33m\u001b[0m\u001b[0m\n\u001b[0;32m    768\u001b[0m         \u001b[0mlabels\u001b[0m \u001b[1;33m=\u001b[0m \u001b[0mensure_index\u001b[0m\u001b[1;33m(\u001b[0m\u001b[0mlabels\u001b[0m\u001b[1;33m)\u001b[0m\u001b[1;33m\u001b[0m\u001b[1;33m\u001b[0m\u001b[0m\n\u001b[1;32m--> 769\u001b[1;33m         \u001b[0mself\u001b[0m\u001b[1;33m.\u001b[0m\u001b[0m_mgr\u001b[0m\u001b[1;33m.\u001b[0m\u001b[0mset_axis\u001b[0m\u001b[1;33m(\u001b[0m\u001b[0maxis\u001b[0m\u001b[1;33m,\u001b[0m \u001b[0mlabels\u001b[0m\u001b[1;33m)\u001b[0m\u001b[1;33m\u001b[0m\u001b[1;33m\u001b[0m\u001b[0m\n\u001b[0m\u001b[0;32m    770\u001b[0m         \u001b[0mself\u001b[0m\u001b[1;33m.\u001b[0m\u001b[0m_clear_item_cache\u001b[0m\u001b[1;33m(\u001b[0m\u001b[1;33m)\u001b[0m\u001b[1;33m\u001b[0m\u001b[1;33m\u001b[0m\u001b[0m\n\u001b[0;32m    771\u001b[0m \u001b[1;33m\u001b[0m\u001b[0m\n",
      "\u001b[1;32mC:\\Anaconda\\lib\\site-packages\\pandas\\core\\internals\\managers.py\u001b[0m in \u001b[0;36mset_axis\u001b[1;34m()\u001b[0m\n\u001b[0;32m    212\u001b[0m     \u001b[1;32mdef\u001b[0m \u001b[0mset_axis\u001b[0m\u001b[1;33m(\u001b[0m\u001b[0mself\u001b[0m\u001b[1;33m,\u001b[0m \u001b[0maxis\u001b[0m\u001b[1;33m:\u001b[0m \u001b[0mint\u001b[0m\u001b[1;33m,\u001b[0m \u001b[0mnew_labels\u001b[0m\u001b[1;33m:\u001b[0m \u001b[0mIndex\u001b[0m\u001b[1;33m)\u001b[0m \u001b[1;33m->\u001b[0m \u001b[1;32mNone\u001b[0m\u001b[1;33m:\u001b[0m\u001b[1;33m\u001b[0m\u001b[1;33m\u001b[0m\u001b[0m\n\u001b[0;32m    213\u001b[0m         \u001b[1;31m# Caller is responsible for ensuring we have an Index object.\u001b[0m\u001b[1;33m\u001b[0m\u001b[1;33m\u001b[0m\u001b[1;33m\u001b[0m\u001b[0m\n\u001b[1;32m--> 214\u001b[1;33m         \u001b[0mself\u001b[0m\u001b[1;33m.\u001b[0m\u001b[0m_validate_set_axis\u001b[0m\u001b[1;33m(\u001b[0m\u001b[0maxis\u001b[0m\u001b[1;33m,\u001b[0m \u001b[0mnew_labels\u001b[0m\u001b[1;33m)\u001b[0m\u001b[1;33m\u001b[0m\u001b[1;33m\u001b[0m\u001b[0m\n\u001b[0m\u001b[0;32m    215\u001b[0m         \u001b[0mself\u001b[0m\u001b[1;33m.\u001b[0m\u001b[0maxes\u001b[0m\u001b[1;33m[\u001b[0m\u001b[0maxis\u001b[0m\u001b[1;33m]\u001b[0m \u001b[1;33m=\u001b[0m \u001b[0mnew_labels\u001b[0m\u001b[1;33m\u001b[0m\u001b[1;33m\u001b[0m\u001b[0m\n\u001b[0;32m    216\u001b[0m \u001b[1;33m\u001b[0m\u001b[0m\n",
      "\u001b[1;32mC:\\Anaconda\\lib\\site-packages\\pandas\\core\\internals\\base.py\u001b[0m in \u001b[0;36m_validate_set_axis\u001b[1;34m()\u001b[0m\n\u001b[0;32m     67\u001b[0m \u001b[1;33m\u001b[0m\u001b[0m\n\u001b[0;32m     68\u001b[0m         \u001b[1;32melif\u001b[0m \u001b[0mnew_len\u001b[0m \u001b[1;33m!=\u001b[0m \u001b[0mold_len\u001b[0m\u001b[1;33m:\u001b[0m\u001b[1;33m\u001b[0m\u001b[1;33m\u001b[0m\u001b[0m\n\u001b[1;32m---> 69\u001b[1;33m             raise ValueError(\n\u001b[0m\u001b[0;32m     70\u001b[0m                 \u001b[1;34mf\"Length mismatch: Expected axis has {old_len} elements, new \"\u001b[0m\u001b[1;33m\u001b[0m\u001b[1;33m\u001b[0m\u001b[0m\n\u001b[0;32m     71\u001b[0m                 \u001b[1;34mf\"values have {new_len} elements\"\u001b[0m\u001b[1;33m\u001b[0m\u001b[1;33m\u001b[0m\u001b[0m\n",
      "\u001b[1;31mValueError\u001b[0m: Length mismatch: Expected axis has 23 elements, new values have 22 elements"
     ]
    }
   ],
   "source": [
    "DD_RECH4.tail()"
   ]
  },
  {
   "cell_type": "code",
   "execution_count": null,
   "metadata": {
    "id": "eYUoZ5CLZiwa"
   },
   "outputs": [],
   "source": [
    "#Crear llaves\n",
    "DD_RECH1[\"QSNUMERO\"]= DD_RECH1[\"HVIDX\"]\n",
    "DD_RECH4[\"QSNUMERO\"]= DD_RECH4[\"IDXH4\"]"
   ]
  },
  {
   "cell_type": "code",
   "execution_count": null,
   "metadata": {
    "id": "JSdMDbRUaJTW"
   },
   "outputs": [],
   "source": [
    "# Merge bases individuales\n",
    "DD_BASE_INDIVIDUAL= DD_RECH1.merge(DD_RECH4, how= \"left\", on=[\"HHID\", \"QSNUMERO\"])\n",
    "DD_BASE_HOGAR= DD_RECH0.merge(DD_RECH23, how= \"left\", on= [\"HHID\"])"
   ]
  },
  {
   "cell_type": "code",
   "execution_count": null,
   "metadata": {
    "id": "Fiuq3n6sfWVG"
   },
   "outputs": [],
   "source": [
    "# Merge base predictores\n",
    "DD_BASE_PREDICTORES= DD_BASE_HOGAR.merge(DD_BASE_INDIVIDUAL, how= \"left\", on= [\"HHID\"])"
   ]
  },
  {
   "cell_type": "code",
   "execution_count": null,
   "metadata": {
    "id": "QwVnZd2Rfsun"
   },
   "outputs": [],
   "source": [
    "# Unir bases en Base Total\n",
    "DD_BASE_TOTAL= DD_CSALUD.merge(DD_BASE_PREDICTORES, how= \"left\", on= [\"HHID\", \"QSNUMERO\"])"
   ]
  },
  {
   "cell_type": "code",
   "execution_count": null,
   "metadata": {
    "colab": {
     "base_uri": "https://localhost:8080/"
    },
    "id": "Ms6Hi_nZdE2B",
    "outputId": "95498648-f1b8-4cb8-a91b-f8833b0b7167"
   },
   "outputs": [
    {
     "name": "stdout",
     "output_type": "stream",
     "text": [
      "['ID1', 'HHID', 'QHCLUSTER', 'QHNUMBER', 'QHHOME', 'QSNUMERO', 'QSINTM', 'QSINTY', 'QSTOTVISIT', 'QSRESULT', 'QSRESULTX', 'QSNINOS', 'QSRESINF', 'QSORDNIN1', 'QSRESNIN1', 'QSORDNIN2', 'QSRESNIN2', 'QSORDNIN3', 'QSRESNIN3', 'QSORDNIN4', 'QSRESNIN4', 'QSORDNIN5', 'QSRESNIN5', 'QSORDNIN6', 'QSRESNIN6', 'QSORDNIN7', 'QSRESNIN7', 'QSORDNIN8', 'QSRESNIN8', 'QSORDNIN9', 'QSRESNIN9', 'QSORDNIND', 'QSRESNIND', 'CONTROL_S', 'QS20C', 'QSSEXO', 'QSMEF', 'QSDIA', 'QS22M', 'QS22A', 'QS23', 'QS24', 'QS25N', 'QS25AG', 'QS25A', 'QS25G', 'QS25AA', 'QS25BB', 'QS26', 'QS27', 'QS28', 'QS29A', 'QS29B', 'QS100', 'QS101', 'QS102', 'QS103U', 'QS103C', 'QS104', 'QS105', 'QS106', 'QS107', 'QS108', 'QS109', 'QS110U', 'QS110C', 'QS111', 'QS112', 'QS113', 'QS202', 'QS203U', 'QS203C', 'QS204U', 'QS204C', 'QS205U', 'QS205C', 'QS206', 'QS207U', 'QS207C', 'QS208', 'QS209', 'QS210', 'QS211U', 'QS211C', 'QS212T', 'QS212A', 'QS212AV', 'QS212AB', 'QS212B', 'QS212BV', 'QS212BB', 'QS212C', 'QS212CV', 'QS212CB', 'QS212D', 'QS212DV', 'QS212DB', 'QS212E', 'QS212EV', 'QS212EB', 'QS212F', 'QS212FV', 'QS212FB', 'QS212G', 'QS212GV', 'QS212GB', 'QS212O', 'QS212X', 'QS212XV', 'QS212XB', 'QS212Z', 'QS213U', 'QS213C', 'QS214U', 'QS214C', 'QS215U', 'QS215C', 'QS216U', 'QS216C', 'QS217U', 'QS217C', 'QS218U', 'QS218C', 'QS219U', 'QS219C', 'QS220U', 'QS220CV', 'QS220CC', 'QS200', 'QS201', 'QS302C', 'QS303', 'QS304', 'QS305U', 'QS305C', 'QS306', 'QS307', 'QS308', 'QS309', 'QS311', 'QS312U', 'QS312C', 'QS313', 'QS301', 'QS302U', 'QS403', 'QS404', 'QS406', 'QS407', 'QS409', 'QS410U', 'QS410C', 'QS411', 'QS412U', 'QS412C', 'QS413', 'QS415', 'QS416U', 'QS416C', 'QS401', 'QS402', 'QS500', 'QS501U', 'QS501C', 'QS503', 'QS505A', 'QS505B', 'QS505C', 'QS505D', 'QS506', 'QS603', 'QS604', 'QS606', 'QS607', 'QS608', 'QS609', 'QS610', 'QS611', 'QS601A', 'QS601B', 'QS700A', 'QS700B', 'QS700C', 'QS700D', 'QS700E', 'QS700F', 'QS700G', 'QS700H', 'QS700I', 'QS702', 'QS703', 'QS704PRV', 'QS704T', 'QS704A', 'QS704B', 'QS704C', 'QS704D', 'QS704E', 'QS704F', 'QS704G', 'QS704H', 'QS704I', 'QS706', 'QS707', 'QS708', 'QS709', 'QS710', 'QS711', 'QS713', 'QS714', 'QS715', 'QS716', 'QS717', 'QS719', 'QS720', 'QS721', 'QS722', 'QS723', 'QS724', 'QS725', 'QS726', 'QS727', 'QS728', 'QS729', 'QS730', 'QS731', 'QFIN', 'QS8INICIO', 'QS900', 'QS901', 'QS902', 'QS903S', 'QS903D', 'QS905S', 'QS905D', 'QS906', 'QS25C1', 'QS25C2', 'QS25C3', 'QS25C4', 'QS25C5', 'QS25C6', 'QS907', 'QS908', 'PESO15_AMAS', 'ID1_x_x', 'HV000', 'HV001', 'HV002', 'HV002A', 'HV003', 'HV004', 'HV007', 'HV008', 'HV009', 'HV010', 'HV011', 'HV012', 'HV013', 'HV014', 'HV015', 'HV017', 'HV020', 'HV021', 'HV023', 'HV024', 'HV025', 'HV026', 'HV027', 'HV028', 'HV030', 'HV031', 'HV032', 'HV033', 'HV035', 'HV040', 'HV041', 'HV042', 'HV043', 'HV044', 'UBIGEO', 'HV022', 'CODCCPP', 'NOMCCPP', 'NCONGLOME', 'HV005', 'longitudx', 'latitudy', 'ID1_y_x', 'HV201', 'HV202', 'HV204', 'HV205', 'HV206', 'HV207', 'HV208', 'HV209', 'HV210', 'HV211', 'HV212', 'HV213', 'HV214', 'HV215', 'HV216', 'HV217', 'HV218', 'HV219', 'HV220', 'HV221', 'HV225', 'HV226', 'HV227', 'HV228', 'HV234', 'HV235', 'HV236', 'HV237', 'HV237A', 'HV237B', 'HV237C', 'HV237D', 'HV237E', 'HV237F', 'HV237G', 'HV237H', 'HV237I', 'HV237J', 'HV237K', 'HV237X', 'HV237Z', 'HV238', 'HV239', 'HV240', 'HV241', 'HV242', 'HV243A', 'HV243B', 'HV243C', 'HV243D', 'HV244', 'HV245', 'HV246', 'HV246A', 'HV246B', 'HV246C', 'HV246D', 'HV246E', 'HV246F', 'HV246G', 'HV246H', 'HV246I', 'HV246J', 'HV246K', 'HV247', 'HV248', 'HV249', 'HV250', 'HV251', 'HML1', 'HML1A', 'HML2', 'SHVER', 'SHREGION', 'SHSEMES', 'SHPROVIN', 'SHDISTRI', 'SHTOTH', 'SHEQUIPO', 'SH42', 'SH43', 'SH48', 'SH49', 'SH50', 'SH51', 'SH52', 'SH56', 'SH58', 'SH59', 'SH60', 'SH61A', 'SH61B', 'SH61C', 'SH61D', 'SH61E', 'SH61J', 'SH61K', 'SH61L', 'SH61M', 'SH61N', 'SH61O', 'SH61P', 'SH61Q', 'SH61R', 'SH61S', 'SH63', 'SH64', 'SH66', 'SH69', 'SH70', 'SH71', 'SH72', 'SXH73', 'SH76A', 'SH76B', 'SH76C', 'SH76D', 'SH76E', 'SH77F', 'SH78', 'SH79', 'SH224', 'SH225U', 'SH225', 'SH227', 'QH227A', 'QH227B', 'HV270', 'HV271', 'ID1_x_y', 'HVIDX', 'HV101', 'HV102', 'HV103', 'HV104', 'HV105', 'HV106', 'HV107', 'HV108', 'HV109', 'HV110', 'HV111', 'HV112', 'HV113', 'HV114', 'HV115', 'HV116', 'HV117', 'HV118', 'HV120', 'HV121', 'HV122', 'HV123', 'HV124', 'HV125', 'HV126', 'HV127', 'HV128', 'HV129', 'QH21A', 'QH25A', 'QH25B', 'QH25CM', 'QH25CA', 'ID1_y_y', 'IDXH4', 'SH11A', 'SH11B', 'SH11C', 'SH11D', 'SH11E', 'SH11Y', 'SH11Z', 'SH12', 'SH13', 'SH15N', 'SH15Y', 'SH15G', 'SH18N', 'SH18Y', 'SH18G', 'SH20N', 'SH20Y', 'SH20G', 'SH21']\n"
     ]
    }
   ],
   "source": [
    "## Explorar todos los nombres de las columnas de BASE TOTAL\n",
    "print(DD_BASE_TOTAL.columns.tolist())"
   ]
  },
  {
   "cell_type": "code",
   "execution_count": null,
   "metadata": {
    "colab": {
     "base_uri": "https://localhost:8080/"
    },
    "id": "DZac4jQ2moBS",
    "outputId": "25cff6a6-0e65-427c-97cc-5c8ebf00b8b5"
   },
   "outputs": [
    {
     "data": {
      "text/plain": [
       "0        0\n",
       "1        0\n",
       "2        1\n",
       "3        1\n",
       "4        0\n",
       "        ..\n",
       "34110    1\n",
       "34111    0\n",
       "34112    0\n",
       "34113    1\n",
       "34114    1\n",
       "Name: QS700B, Length: 34115, dtype: object"
      ]
     },
     "execution_count": 15,
     "metadata": {},
     "output_type": "execute_result"
    }
   ],
   "source": [
    "## Explorar variable a predecir QS700B\n",
    "DD_BASE_TOTAL[\"QS700B\"].compute()"
   ]
  },
  {
   "cell_type": "code",
   "execution_count": null,
   "metadata": {
    "id": "SeRIsc7akuJA"
   },
   "outputs": [],
   "source": [
    "## Convertir variables objetivo de object a numeric\n",
    "DD_BASE_TOTAL[\"QS700A\"]= dd.to_numeric(DD_BASE_TOTAL['QS700A'],errors = 'coerce')\n",
    "DD_BASE_TOTAL[\"QS700B\"]= dd.to_numeric(DD_BASE_TOTAL['QS700B'],errors = 'coerce')\n",
    "DD_BASE_TOTAL[\"QS700C\"]= dd.to_numeric(DD_BASE_TOTAL['QS700C'],errors = 'coerce')\n",
    "DD_BASE_TOTAL[\"QS700D\"]= dd.to_numeric(DD_BASE_TOTAL['QS700D'],errors = 'coerce')\n",
    "DD_BASE_TOTAL[\"QS700E\"]= dd.to_numeric(DD_BASE_TOTAL['QS700E'],errors = 'coerce')\n",
    "DD_BASE_TOTAL[\"QS700F\"]= dd.to_numeric(DD_BASE_TOTAL['QS700F'],errors = 'coerce')\n",
    "DD_BASE_TOTAL[\"QS700G\"]= dd.to_numeric(DD_BASE_TOTAL['QS700G'],errors = 'coerce')\n",
    "DD_BASE_TOTAL[\"QS700H\"]= dd.to_numeric(DD_BASE_TOTAL['QS700H'],errors = 'coerce')\n",
    "DD_BASE_TOTAL[\"QS700I\"]= dd.to_numeric(DD_BASE_TOTAL['QS700I'],errors = 'coerce')\n"
   ]
  },
  {
   "cell_type": "code",
   "execution_count": null,
   "metadata": {
    "id": "qSifYrzYBwcn"
   },
   "outputs": [],
   "source": [
    "#Crear etiquetas departamentos\n",
    "labels_region = [\"Amazonas\", \"Ancash\", \"Apurimac\", \"Arequipa\", \"Ayacucho\", \"Cajamarca\", \"Callao\", \"Cusco\", \"Huancavelica\", \"Huanuco\", \"Ica\", \"Junin\", \"La Libertad\", \"Lambayeque\", \"Lima\", \"Loreto\", \"Madre de Dios\", \"Moquegua\", \"Pasco\", \"Piura\", \"Puno\", \"San Martin\", \"Tacna\", \"Tumbes\", \"Ucayali\"]"
   ]
  },
  {
   "cell_type": "code",
   "execution_count": null,
   "metadata": {
    "id": "t4Usq4Nk2Gty"
   },
   "outputs": [],
   "source": [
    "#Calcular puntaje depresión 14 días\n",
    "DD_BASE_TOTAL[\"PUNTAJE_DEPRESION_14D\"]= (DD_BASE_TOTAL[\"QS700A\"]+DD_BASE_TOTAL[\"QS700B\"]+DD_BASE_TOTAL[\"QS700C\"]+DD_BASE_TOTAL[\"QS700D\"]+DD_BASE_TOTAL[\"QS700E\"]+DD_BASE_TOTAL[\"QS700F\"]+DD_BASE_TOTAL[\"QS700G\"]+DD_BASE_TOTAL[\"QS700H\"]+DD_BASE_TOTAL[\"QS700I\"])/9"
   ]
  },
  {
   "cell_type": "code",
   "execution_count": null,
   "metadata": {
    "id": "8Q82LdHfjkZQ"
   },
   "outputs": [],
   "source": [
    "## Calcular puntajes depresión 14 días, según regiones del Perú\n",
    "depresion_14d= DD_BASE_TOTAL.groupby(\"HV024\")[\"PUNTAJE_DEPRESION_14D\"].agg(np.mean).compute()"
   ]
  },
  {
   "cell_type": "code",
   "execution_count": null,
   "metadata": {
    "colab": {
     "base_uri": "https://localhost:8080/"
    },
    "id": "QSQO68M6M3yK",
    "outputId": "95ca3259-6d80-4f6b-fd22-fc87d16661c3"
   },
   "outputs": [
    {
     "name": "stdout",
     "output_type": "stream",
     "text": [
      "               Puntaje depresión 14 días\n",
      "Amazonas                        0.233748\n",
      "Ancash                          0.262705\n",
      "Apurimac                        0.345156\n",
      "Arequipa                        0.415477\n",
      "Ayacucho                        0.310671\n",
      "Cajamarca                       0.296076\n",
      "Callao                          0.291421\n",
      "Cusco                           0.353624\n",
      "Huancavelica                    0.427791\n",
      "Huanuco                         0.273776\n",
      "Ica                             0.233923\n",
      "Junin                           0.365066\n",
      "La Libertad                     0.319825\n",
      "Lambayeque                      0.156112\n",
      "Lima                            0.299538\n",
      "Loreto                          0.142734\n",
      "Madre de Dios                   0.349513\n",
      "Moquegua                        0.284401\n",
      "Pasco                           0.345112\n",
      "Piura                           0.186887\n",
      "Puno                            0.472176\n",
      "San Martin                      0.234787\n",
      "Tacna                           0.267247\n",
      "Tumbes                          0.196983\n",
      "Ucayali                         0.240184\n"
     ]
    }
   ],
   "source": [
    "## Visualizar puntajes depresión 14 días, según regiones del Perú\n",
    "print(pd.DataFrame(data= np.array(depresion_14d), index= labels_region, columns= [\"Puntaje depresión 14 días\"]))"
   ]
  },
  {
   "cell_type": "code",
   "execution_count": null,
   "metadata": {
    "colab": {
     "base_uri": "https://localhost:8080/",
     "height": 281
    },
    "id": "Tl4SWYjhRBp8",
    "outputId": "6d0ba64d-b44e-427b-a42a-fe1d25cfaa07"
   },
   "outputs": [
    {
     "data": {
      "image/png": "[encoded data removed]",
      "text/plain": [
       "<Figure size 432x288 with 1 Axes>"
      ]
     },
     "metadata": {
      "needs_background": "light"
     },
     "output_type": "display_data"
    }
   ],
   "source": [
    "# Plot depresión últimos 14 días, según región\n",
    "fig, ax = plt.subplots()\n",
    "ax.barh(labels_region, sorted(np.array(depresion_14d)))\n",
    "ax.set_title('Puntaje de depresión en los últimos 14 días')\n",
    "\n",
    "plt.show()\n"
   ]
  },
  {
   "cell_type": "code",
   "execution_count": null,
   "metadata": {
    "id": "ATgsd1UN_JgB"
   },
   "outputs": [],
   "source": [
    "## Convertir variables objetivo de object a numeric\n",
    "DD_BASE_TOTAL[\"QS704A\"]= dd.to_numeric(DD_BASE_TOTAL['QS704A'],errors = 'coerce')\n",
    "DD_BASE_TOTAL[\"QS704B\"]= dd.to_numeric(DD_BASE_TOTAL['QS704B'],errors = 'coerce')\n",
    "DD_BASE_TOTAL[\"QS704C\"]= dd.to_numeric(DD_BASE_TOTAL['QS704C'],errors = 'coerce')\n",
    "DD_BASE_TOTAL[\"QS704D\"]= dd.to_numeric(DD_BASE_TOTAL['QS704D'],errors = 'coerce')\n",
    "DD_BASE_TOTAL[\"QS704E\"]= dd.to_numeric(DD_BASE_TOTAL['QS704E'],errors = 'coerce')\n",
    "DD_BASE_TOTAL[\"QS704F\"]= dd.to_numeric(DD_BASE_TOTAL['QS704F'],errors = 'coerce')\n",
    "DD_BASE_TOTAL[\"QS704G\"]= dd.to_numeric(DD_BASE_TOTAL['QS704G'],errors = 'coerce')\n",
    "DD_BASE_TOTAL[\"QS704H\"]= dd.to_numeric(DD_BASE_TOTAL['QS704H'],errors = 'coerce')\n",
    "DD_BASE_TOTAL[\"QS704I\"]= dd.to_numeric(DD_BASE_TOTAL['QS704I'],errors = 'coerce')\n"
   ]
  },
  {
   "cell_type": "code",
   "execution_count": null,
   "metadata": {
    "id": "AHqhAHON-YN1"
   },
   "outputs": [],
   "source": [
    "# Calcular puntaje depresión 12 meses\n",
    "DD_BASE_TOTAL[\"PUNTAJE_DEPRESION_12M\"]= (DD_BASE_TOTAL[\"QS704A\"]+DD_BASE_TOTAL[\"QS704B\"]+DD_BASE_TOTAL[\"QS704C\"]+DD_BASE_TOTAL[\"QS704D\"]+DD_BASE_TOTAL[\"QS704E\"]+DD_BASE_TOTAL[\"QS704F\"]+DD_BASE_TOTAL[\"QS704G\"]+DD_BASE_TOTAL[\"QS704H\"]+DD_BASE_TOTAL[\"QS704I\"])/9"
   ]
  },
  {
   "cell_type": "code",
   "execution_count": null,
   "metadata": {
    "colab": {
     "base_uri": "https://localhost:8080/",
     "height": 478
    },
    "id": "bG0q6TV03koh",
    "outputId": "f87bcddf-6135-4d60-ac46-ab8045fcedc1"
   },
   "outputs": [
    {
     "name": "stderr",
     "output_type": "stream",
     "text": [
      "distributed.nanny - WARNING - Worker exceeded 95% memory budget. Restarting\n",
      "distributed.nanny - WARNING - Restarting worker\n",
      "distributed.nanny - WARNING - Worker exceeded 95% memory budget. Restarting\n",
      "distributed.nanny - WARNING - Restarting worker\n",
      "distributed.nanny - WARNING - Worker exceeded 95% memory budget. Restarting\n",
      "distributed.nanny - WARNING - Restarting worker\n",
      "distributed.nanny - WARNING - Worker exceeded 95% memory budget. Restarting\n",
      "distributed.nanny - WARNING - Restarting worker\n"
     ]
    },
    {
     "ename": "KilledWorker",
     "evalue": "ignored",
     "output_type": "error",
     "traceback": [
      "\u001b[0;31m---------------------------------------------------------------------------\u001b[0m",
      "\u001b[0;31mKilledWorker\u001b[0m                              Traceback (most recent call last)",
      "\u001b[0;32m<ipython-input-24-356bef37e2a7>\u001b[0m in \u001b[0;36m<module>\u001b[0;34m()\u001b[0m\n\u001b[1;32m      1\u001b[0m \u001b[0;31m## Calcular puntajes depresión 12 meses, según regiones del Perú\u001b[0m\u001b[0;34m\u001b[0m\u001b[0;34m\u001b[0m\u001b[0;34m\u001b[0m\u001b[0m\n\u001b[0;32m----> 2\u001b[0;31m \u001b[0mdepresion_12m\u001b[0m\u001b[0;34m=\u001b[0m \u001b[0mDD_BASE_TOTAL\u001b[0m\u001b[0;34m.\u001b[0m\u001b[0mgroupby\u001b[0m\u001b[0;34m(\u001b[0m\u001b[0;34m\"HV024\"\u001b[0m\u001b[0;34m)\u001b[0m\u001b[0;34m[\u001b[0m\u001b[0;34m\"PUNTAJE_DEPRESION_12M\"\u001b[0m\u001b[0;34m]\u001b[0m\u001b[0;34m.\u001b[0m\u001b[0magg\u001b[0m\u001b[0;34m(\u001b[0m\u001b[0mnp\u001b[0m\u001b[0;34m.\u001b[0m\u001b[0mmean\u001b[0m\u001b[0;34m)\u001b[0m\u001b[0;34m.\u001b[0m\u001b[0mcompute\u001b[0m\u001b[0;34m(\u001b[0m\u001b[0;34m)\u001b[0m\u001b[0;34m\u001b[0m\u001b[0;34m\u001b[0m\u001b[0m\n\u001b[0m",
      "\u001b[0;32m/usr/local/lib/python3.7/dist-packages/dask/base.py\u001b[0m in \u001b[0;36mcompute\u001b[0;34m(self, **kwargs)\u001b[0m\n\u001b[1;32m    164\u001b[0m         \u001b[0mdask\u001b[0m\u001b[0;34m.\u001b[0m\u001b[0mbase\u001b[0m\u001b[0;34m.\u001b[0m\u001b[0mcompute\u001b[0m\u001b[0;34m\u001b[0m\u001b[0;34m\u001b[0m\u001b[0m\n\u001b[1;32m    165\u001b[0m         \"\"\"\n\u001b[0;32m--> 166\u001b[0;31m         \u001b[0;34m(\u001b[0m\u001b[0mresult\u001b[0m\u001b[0;34m,\u001b[0m\u001b[0;34m)\u001b[0m \u001b[0;34m=\u001b[0m \u001b[0mcompute\u001b[0m\u001b[0;34m(\u001b[0m\u001b[0mself\u001b[0m\u001b[0;34m,\u001b[0m \u001b[0mtraverse\u001b[0m\u001b[0;34m=\u001b[0m\u001b[0;32mFalse\u001b[0m\u001b[0;34m,\u001b[0m \u001b[0;34m**\u001b[0m\u001b[0mkwargs\u001b[0m\u001b[0;34m)\u001b[0m\u001b[0;34m\u001b[0m\u001b[0;34m\u001b[0m\u001b[0m\n\u001b[0m\u001b[1;32m    167\u001b[0m         \u001b[0;32mreturn\u001b[0m \u001b[0mresult\u001b[0m\u001b[0;34m\u001b[0m\u001b[0;34m\u001b[0m\u001b[0m\n\u001b[1;32m    168\u001b[0m \u001b[0;34m\u001b[0m\u001b[0m\n",
      "\u001b[0;32m/usr/local/lib/python3.7/dist-packages/dask/base.py\u001b[0m in \u001b[0;36mcompute\u001b[0;34m(*args, **kwargs)\u001b[0m\n\u001b[1;32m    435\u001b[0m     \u001b[0mkeys\u001b[0m \u001b[0;34m=\u001b[0m \u001b[0;34m[\u001b[0m\u001b[0mx\u001b[0m\u001b[0;34m.\u001b[0m\u001b[0m__dask_keys__\u001b[0m\u001b[0;34m(\u001b[0m\u001b[0;34m)\u001b[0m \u001b[0;32mfor\u001b[0m \u001b[0mx\u001b[0m \u001b[0;32min\u001b[0m \u001b[0mcollections\u001b[0m\u001b[0;34m]\u001b[0m\u001b[0;34m\u001b[0m\u001b[0;34m\u001b[0m\u001b[0m\n\u001b[1;32m    436\u001b[0m     \u001b[0mpostcomputes\u001b[0m \u001b[0;34m=\u001b[0m \u001b[0;34m[\u001b[0m\u001b[0mx\u001b[0m\u001b[0;34m.\u001b[0m\u001b[0m__dask_postcompute__\u001b[0m\u001b[0;34m(\u001b[0m\u001b[0;34m)\u001b[0m \u001b[0;32mfor\u001b[0m \u001b[0mx\u001b[0m \u001b[0;32min\u001b[0m \u001b[0mcollections\u001b[0m\u001b[0;34m]\u001b[0m\u001b[0;34m\u001b[0m\u001b[0;34m\u001b[0m\u001b[0m\n\u001b[0;32m--> 437\u001b[0;31m     \u001b[0mresults\u001b[0m \u001b[0;34m=\u001b[0m \u001b[0mschedule\u001b[0m\u001b[0;34m(\u001b[0m\u001b[0mdsk\u001b[0m\u001b[0;34m,\u001b[0m \u001b[0mkeys\u001b[0m\u001b[0;34m,\u001b[0m \u001b[0;34m**\u001b[0m\u001b[0mkwargs\u001b[0m\u001b[0;34m)\u001b[0m\u001b[0;34m\u001b[0m\u001b[0;34m\u001b[0m\u001b[0m\n\u001b[0m\u001b[1;32m    438\u001b[0m     \u001b[0;32mreturn\u001b[0m \u001b[0mrepack\u001b[0m\u001b[0;34m(\u001b[0m\u001b[0;34m[\u001b[0m\u001b[0mf\u001b[0m\u001b[0;34m(\u001b[0m\u001b[0mr\u001b[0m\u001b[0;34m,\u001b[0m \u001b[0;34m*\u001b[0m\u001b[0ma\u001b[0m\u001b[0;34m)\u001b[0m \u001b[0;32mfor\u001b[0m \u001b[0mr\u001b[0m\u001b[0;34m,\u001b[0m \u001b[0;34m(\u001b[0m\u001b[0mf\u001b[0m\u001b[0;34m,\u001b[0m \u001b[0ma\u001b[0m\u001b[0;34m)\u001b[0m \u001b[0;32min\u001b[0m \u001b[0mzip\u001b[0m\u001b[0;34m(\u001b[0m\u001b[0mresults\u001b[0m\u001b[0;34m,\u001b[0m \u001b[0mpostcomputes\u001b[0m\u001b[0;34m)\u001b[0m\u001b[0;34m]\u001b[0m\u001b[0;34m)\u001b[0m\u001b[0;34m\u001b[0m\u001b[0;34m\u001b[0m\u001b[0m\n\u001b[1;32m    439\u001b[0m \u001b[0;34m\u001b[0m\u001b[0m\n",
      "\u001b[0;32m/usr/local/lib/python3.7/dist-packages/distributed/client.py\u001b[0m in \u001b[0;36mget\u001b[0;34m(self, dsk, keys, restrictions, loose_restrictions, resources, sync, asynchronous, direct, retries, priority, fifo_timeout, actors, **kwargs)\u001b[0m\n\u001b[1;32m   2723\u001b[0m                     \u001b[0mshould_rejoin\u001b[0m \u001b[0;34m=\u001b[0m \u001b[0;32mFalse\u001b[0m\u001b[0;34m\u001b[0m\u001b[0;34m\u001b[0m\u001b[0m\n\u001b[1;32m   2724\u001b[0m             \u001b[0;32mtry\u001b[0m\u001b[0;34m:\u001b[0m\u001b[0;34m\u001b[0m\u001b[0;34m\u001b[0m\u001b[0m\n\u001b[0;32m-> 2725\u001b[0;31m                 \u001b[0mresults\u001b[0m \u001b[0;34m=\u001b[0m \u001b[0mself\u001b[0m\u001b[0;34m.\u001b[0m\u001b[0mgather\u001b[0m\u001b[0;34m(\u001b[0m\u001b[0mpacked\u001b[0m\u001b[0;34m,\u001b[0m \u001b[0masynchronous\u001b[0m\u001b[0;34m=\u001b[0m\u001b[0masynchronous\u001b[0m\u001b[0;34m,\u001b[0m \u001b[0mdirect\u001b[0m\u001b[0;34m=\u001b[0m\u001b[0mdirect\u001b[0m\u001b[0;34m)\u001b[0m\u001b[0;34m\u001b[0m\u001b[0;34m\u001b[0m\u001b[0m\n\u001b[0m\u001b[1;32m   2726\u001b[0m             \u001b[0;32mfinally\u001b[0m\u001b[0;34m:\u001b[0m\u001b[0;34m\u001b[0m\u001b[0;34m\u001b[0m\u001b[0m\n\u001b[1;32m   2727\u001b[0m                 \u001b[0;32mfor\u001b[0m \u001b[0mf\u001b[0m \u001b[0;32min\u001b[0m \u001b[0mfutures\u001b[0m\u001b[0;34m.\u001b[0m\u001b[0mvalues\u001b[0m\u001b[0;34m(\u001b[0m\u001b[0;34m)\u001b[0m\u001b[0;34m:\u001b[0m\u001b[0;34m\u001b[0m\u001b[0;34m\u001b[0m\u001b[0m\n",
      "\u001b[0;32m/usr/local/lib/python3.7/dist-packages/distributed/client.py\u001b[0m in \u001b[0;36mgather\u001b[0;34m(self, futures, errors, direct, asynchronous)\u001b[0m\n\u001b[1;32m   1990\u001b[0m                 \u001b[0mdirect\u001b[0m\u001b[0;34m=\u001b[0m\u001b[0mdirect\u001b[0m\u001b[0;34m,\u001b[0m\u001b[0;34m\u001b[0m\u001b[0;34m\u001b[0m\u001b[0m\n\u001b[1;32m   1991\u001b[0m                 \u001b[0mlocal_worker\u001b[0m\u001b[0;34m=\u001b[0m\u001b[0mlocal_worker\u001b[0m\u001b[0;34m,\u001b[0m\u001b[0;34m\u001b[0m\u001b[0;34m\u001b[0m\u001b[0m\n\u001b[0;32m-> 1992\u001b[0;31m                 \u001b[0masynchronous\u001b[0m\u001b[0;34m=\u001b[0m\u001b[0masynchronous\u001b[0m\u001b[0;34m,\u001b[0m\u001b[0;34m\u001b[0m\u001b[0;34m\u001b[0m\u001b[0m\n\u001b[0m\u001b[1;32m   1993\u001b[0m             )\n\u001b[1;32m   1994\u001b[0m \u001b[0;34m\u001b[0m\u001b[0m\n",
      "\u001b[0;32m/usr/local/lib/python3.7/dist-packages/distributed/client.py\u001b[0m in \u001b[0;36msync\u001b[0;34m(self, func, asynchronous, callback_timeout, *args, **kwargs)\u001b[0m\n\u001b[1;32m    831\u001b[0m         \u001b[0;32melse\u001b[0m\u001b[0;34m:\u001b[0m\u001b[0;34m\u001b[0m\u001b[0;34m\u001b[0m\u001b[0m\n\u001b[1;32m    832\u001b[0m             return sync(\n\u001b[0;32m--> 833\u001b[0;31m                 \u001b[0mself\u001b[0m\u001b[0;34m.\u001b[0m\u001b[0mloop\u001b[0m\u001b[0;34m,\u001b[0m \u001b[0mfunc\u001b[0m\u001b[0;34m,\u001b[0m \u001b[0;34m*\u001b[0m\u001b[0margs\u001b[0m\u001b[0;34m,\u001b[0m \u001b[0mcallback_timeout\u001b[0m\u001b[0;34m=\u001b[0m\u001b[0mcallback_timeout\u001b[0m\u001b[0;34m,\u001b[0m \u001b[0;34m**\u001b[0m\u001b[0mkwargs\u001b[0m\u001b[0;34m\u001b[0m\u001b[0;34m\u001b[0m\u001b[0m\n\u001b[0m\u001b[1;32m    834\u001b[0m             )\n\u001b[1;32m    835\u001b[0m \u001b[0;34m\u001b[0m\u001b[0m\n",
      "\u001b[0;32m/usr/local/lib/python3.7/dist-packages/distributed/utils.py\u001b[0m in \u001b[0;36msync\u001b[0;34m(loop, func, callback_timeout, *args, **kwargs)\u001b[0m\n\u001b[1;32m    338\u001b[0m     \u001b[0;32mif\u001b[0m \u001b[0merror\u001b[0m\u001b[0;34m[\u001b[0m\u001b[0;36m0\u001b[0m\u001b[0;34m]\u001b[0m\u001b[0;34m:\u001b[0m\u001b[0;34m\u001b[0m\u001b[0;34m\u001b[0m\u001b[0m\n\u001b[1;32m    339\u001b[0m         \u001b[0mtyp\u001b[0m\u001b[0;34m,\u001b[0m \u001b[0mexc\u001b[0m\u001b[0;34m,\u001b[0m \u001b[0mtb\u001b[0m \u001b[0;34m=\u001b[0m \u001b[0merror\u001b[0m\u001b[0;34m[\u001b[0m\u001b[0;36m0\u001b[0m\u001b[0;34m]\u001b[0m\u001b[0;34m\u001b[0m\u001b[0;34m\u001b[0m\u001b[0m\n\u001b[0;32m--> 340\u001b[0;31m         \u001b[0;32mraise\u001b[0m \u001b[0mexc\u001b[0m\u001b[0;34m.\u001b[0m\u001b[0mwith_traceback\u001b[0m\u001b[0;34m(\u001b[0m\u001b[0mtb\u001b[0m\u001b[0;34m)\u001b[0m\u001b[0;34m\u001b[0m\u001b[0;34m\u001b[0m\u001b[0m\n\u001b[0m\u001b[1;32m    341\u001b[0m     \u001b[0;32melse\u001b[0m\u001b[0;34m:\u001b[0m\u001b[0;34m\u001b[0m\u001b[0;34m\u001b[0m\u001b[0m\n\u001b[1;32m    342\u001b[0m         \u001b[0;32mreturn\u001b[0m \u001b[0mresult\u001b[0m\u001b[0;34m[\u001b[0m\u001b[0;36m0\u001b[0m\u001b[0;34m]\u001b[0m\u001b[0;34m\u001b[0m\u001b[0;34m\u001b[0m\u001b[0m\n",
      "\u001b[0;32m/usr/local/lib/python3.7/dist-packages/distributed/utils.py\u001b[0m in \u001b[0;36mf\u001b[0;34m()\u001b[0m\n\u001b[1;32m    322\u001b[0m             \u001b[0;32mif\u001b[0m \u001b[0mcallback_timeout\u001b[0m \u001b[0;32mis\u001b[0m \u001b[0;32mnot\u001b[0m \u001b[0;32mNone\u001b[0m\u001b[0;34m:\u001b[0m\u001b[0;34m\u001b[0m\u001b[0;34m\u001b[0m\u001b[0m\n\u001b[1;32m    323\u001b[0m                 \u001b[0mfuture\u001b[0m \u001b[0;34m=\u001b[0m \u001b[0masyncio\u001b[0m\u001b[0;34m.\u001b[0m\u001b[0mwait_for\u001b[0m\u001b[0;34m(\u001b[0m\u001b[0mfuture\u001b[0m\u001b[0;34m,\u001b[0m \u001b[0mcallback_timeout\u001b[0m\u001b[0;34m)\u001b[0m\u001b[0;34m\u001b[0m\u001b[0;34m\u001b[0m\u001b[0m\n\u001b[0;32m--> 324\u001b[0;31m             \u001b[0mresult\u001b[0m\u001b[0;34m[\u001b[0m\u001b[0;36m0\u001b[0m\u001b[0;34m]\u001b[0m \u001b[0;34m=\u001b[0m \u001b[0;32myield\u001b[0m \u001b[0mfuture\u001b[0m\u001b[0;34m\u001b[0m\u001b[0;34m\u001b[0m\u001b[0m\n\u001b[0m\u001b[1;32m    325\u001b[0m         \u001b[0;32mexcept\u001b[0m \u001b[0mException\u001b[0m \u001b[0;32mas\u001b[0m \u001b[0mexc\u001b[0m\u001b[0;34m:\u001b[0m\u001b[0;34m\u001b[0m\u001b[0;34m\u001b[0m\u001b[0m\n\u001b[1;32m    326\u001b[0m             \u001b[0merror\u001b[0m\u001b[0;34m[\u001b[0m\u001b[0;36m0\u001b[0m\u001b[0;34m]\u001b[0m \u001b[0;34m=\u001b[0m \u001b[0msys\u001b[0m\u001b[0;34m.\u001b[0m\u001b[0mexc_info\u001b[0m\u001b[0;34m(\u001b[0m\u001b[0;34m)\u001b[0m\u001b[0;34m\u001b[0m\u001b[0;34m\u001b[0m\u001b[0m\n",
      "\u001b[0;32m/usr/local/lib/python3.7/dist-packages/tornado/gen.py\u001b[0m in \u001b[0;36mrun\u001b[0;34m(self)\u001b[0m\n\u001b[1;32m    760\u001b[0m \u001b[0;34m\u001b[0m\u001b[0m\n\u001b[1;32m    761\u001b[0m                     \u001b[0;32mtry\u001b[0m\u001b[0;34m:\u001b[0m\u001b[0;34m\u001b[0m\u001b[0;34m\u001b[0m\u001b[0m\n\u001b[0;32m--> 762\u001b[0;31m                         \u001b[0mvalue\u001b[0m \u001b[0;34m=\u001b[0m \u001b[0mfuture\u001b[0m\u001b[0;34m.\u001b[0m\u001b[0mresult\u001b[0m\u001b[0;34m(\u001b[0m\u001b[0;34m)\u001b[0m\u001b[0;34m\u001b[0m\u001b[0;34m\u001b[0m\u001b[0m\n\u001b[0m\u001b[1;32m    763\u001b[0m                     \u001b[0;32mexcept\u001b[0m \u001b[0mException\u001b[0m\u001b[0;34m:\u001b[0m\u001b[0;34m\u001b[0m\u001b[0;34m\u001b[0m\u001b[0m\n\u001b[1;32m    764\u001b[0m                         \u001b[0mexc_info\u001b[0m \u001b[0;34m=\u001b[0m \u001b[0msys\u001b[0m\u001b[0;34m.\u001b[0m\u001b[0mexc_info\u001b[0m\u001b[0;34m(\u001b[0m\u001b[0;34m)\u001b[0m\u001b[0;34m\u001b[0m\u001b[0;34m\u001b[0m\u001b[0m\n",
      "\u001b[0;32m/usr/local/lib/python3.7/dist-packages/distributed/client.py\u001b[0m in \u001b[0;36m_gather\u001b[0;34m(self, futures, errors, direct, local_worker)\u001b[0m\n\u001b[1;32m   1849\u001b[0m                             \u001b[0mexc\u001b[0m \u001b[0;34m=\u001b[0m \u001b[0mCancelledError\u001b[0m\u001b[0;34m(\u001b[0m\u001b[0mkey\u001b[0m\u001b[0;34m)\u001b[0m\u001b[0;34m\u001b[0m\u001b[0;34m\u001b[0m\u001b[0m\n\u001b[1;32m   1850\u001b[0m                         \u001b[0;32melse\u001b[0m\u001b[0;34m:\u001b[0m\u001b[0;34m\u001b[0m\u001b[0;34m\u001b[0m\u001b[0m\n\u001b[0;32m-> 1851\u001b[0;31m                             \u001b[0;32mraise\u001b[0m \u001b[0mexception\u001b[0m\u001b[0;34m.\u001b[0m\u001b[0mwith_traceback\u001b[0m\u001b[0;34m(\u001b[0m\u001b[0mtraceback\u001b[0m\u001b[0;34m)\u001b[0m\u001b[0;34m\u001b[0m\u001b[0;34m\u001b[0m\u001b[0m\n\u001b[0m\u001b[1;32m   1852\u001b[0m                         \u001b[0;32mraise\u001b[0m \u001b[0mexc\u001b[0m\u001b[0;34m\u001b[0m\u001b[0;34m\u001b[0m\u001b[0m\n\u001b[1;32m   1853\u001b[0m                     \u001b[0;32mif\u001b[0m \u001b[0merrors\u001b[0m \u001b[0;34m==\u001b[0m \u001b[0;34m\"skip\"\u001b[0m\u001b[0;34m:\u001b[0m\u001b[0;34m\u001b[0m\u001b[0;34m\u001b[0m\u001b[0m\n",
      "\u001b[0;31mKilledWorker\u001b[0m: (\"('aggregate-agg-aggregate-chunk-assign-merge-getitem-b04aa971d4c92401db7957d72e10d48f', 0)\", <Worker 'tcp://127.0.0.1:37307', name: 2, memory: 0, processing: 1>)"
     ]
    }
   ],
   "source": [
    "## Calcular puntajes depresión 12 meses, según regiones del Perú\n",
    "depresion_12m= DD_BASE_TOTAL.groupby(\"HV024\")[\"PUNTAJE_DEPRESION_12M\"].agg(np.mean).compute()"
   ]
  },
  {
   "cell_type": "code",
   "execution_count": null,
   "metadata": {
    "id": "VPR7zFHJPOF2"
   },
   "outputs": [],
   "source": [
    "## Visualizar puntajes depresión 12 meses, según regiones del Perú\n",
    "print(pd.DataFrame(data= np.array(depresion_12m), index= labels_region, columns= [\"Puntaje depresión 12 meses\"]))"
   ]
  },
  {
   "cell_type": "code",
   "execution_count": null,
   "metadata": {
    "id": "A49XuU_KSCsF"
   },
   "outputs": [],
   "source": [
    "# Plot depresión últimos 12 meses, según región\n",
    "fig, ax = plt.subplots()\n",
    "ax.barh(labels_region, sorted(np.array(depresion_12m)))\n",
    "ax.set_title('Puntaje de depresión en los últimos 12 meses')\n",
    "\n",
    "\n",
    "plt.show()"
   ]
  },
  {
   "cell_type": "markdown",
   "metadata": {
    "id": "UmzD3erOK2CH"
   },
   "source": [
    "# **Variables predictoras**\n",
    "\n",
    "* HV024 -> Región\n",
    "* HV104 -> Sexo\n",
    "* HV105 -> Edad\n",
    "* HV106 -> Nivel de estudios\n",
    "* HV115 -> Estado civil\n",
    "* SH11E -> Seguro de salud privado\n",
    "* HV270 -> índice de riqueza\n",
    "\n"
   ]
  },
  {
   "cell_type": "code",
   "execution_count": null,
   "metadata": {
    "colab": {
     "base_uri": "https://localhost:8080/"
    },
    "id": "nEuy5sMmPKvZ",
    "outputId": "d0e3dcd6-0438-4657-8dc4-555b20f96b64"
   },
   "outputs": [
    {
     "name": "stderr",
     "output_type": "stream",
     "text": [
      "/usr/local/lib/python3.7/dist-packages/pandas/core/arrays/categorical.py:2631: FutureWarning: The `inplace` parameter in pandas.Categorical.set_categories is deprecated and will be removed in a future version. Removing unused categories will always return a new Categorical object.\n",
      "  res = method(*args, **kwargs)\n"
     ]
    }
   ],
   "source": [
    "#Pre-procesar variables predictoras\n",
    "DD_BASE_TOTAL[\"HV024\"]= DD_BASE_TOTAL[\"HV024\"].astype('category')\n",
    "DD_BASE_TOTAL[\"HV104\"]= DD_BASE_TOTAL[\"HV104\"].astype('bool')\n",
    "DD_BASE_TOTAL[\"HV106\"]= DD_BASE_TOTAL[\"HV106\"].astype('int64')\n",
    "DD_BASE_TOTAL[\"HV115\"]= DD_BASE_TOTAL[\"HV115\"].astype('category')\n",
    "DD_BASE_TOTAL[\"SH11E\"]= DD_BASE_TOTAL[\"SH11E\"].astype('bool')\n",
    "DD_BASE_TOTAL[\"HV270\"]= DD_BASE_TOTAL[\"HV270\"].astype('int64')"
   ]
  },
  {
   "cell_type": "code",
   "execution_count": null,
   "metadata": {
    "id": "lVCYwqB4Swk-"
   },
   "outputs": [],
   "source": [
    "## Base Machine Learning (pre-processing)\n",
    "DD_BASE_ML= DD_BASE_TOTAL[DD_BASE_TOTAL.HV106!=8]\n",
    "DD_BASE_ML= DD_BASE_ML.loc[:, [\"HV024\", \"HV104\", \"HV105\", \"HV106\", \"HV115\", \"SH11E\", \"HV270\", \"QS700B\"]]"
   ]
  },
  {
   "cell_type": "code",
   "execution_count": null,
   "metadata": {
    "id": "gFOaIMm6cAO0"
   },
   "outputs": [],
   "source": [
    "#Explorar NA\n",
    "DD_BASE_ML.isna().sum().compute()"
   ]
  },
  {
   "cell_type": "code",
   "execution_count": null,
   "metadata": {
    "id": "O6BSaqxocj1b"
   },
   "outputs": [],
   "source": [
    "## BASE ML\n",
    "DD_BASE_ML= DD_BASE_ML.dropna()"
   ]
  },
  {
   "cell_type": "code",
   "execution_count": null,
   "metadata": {
    "id": "c60h2NNjdFBZ"
   },
   "outputs": [],
   "source": [
    "#Explorar NA BASE ML FINAL\n",
    "DD_BASE_ML.isna().sum().compute()"
   ]
  },
  {
   "cell_type": "code",
   "execution_count": null,
   "metadata": {
    "id": "JvVHM2ylAPbh"
   },
   "outputs": [],
   "source": [
    "print(DD_BASE_ML)"
   ]
  },
  {
   "cell_type": "markdown",
   "metadata": {
    "id": "auE1Ng_Zdz4k"
   },
   "source": [
    "# **Algoritmo ML**"
   ]
  },
  {
   "cell_type": "code",
   "execution_count": null,
   "metadata": {
    "id": "Rc_tPyIceQHa"
   },
   "outputs": [],
   "source": [
    "# Transformar variables\n",
    "X = DD_BASE_ML.drop(\"QS700B\", axis=1)\n",
    "y = DD_BASE_ML[\"QS700B\"]\n",
    "names= DD_BASE_ML.drop(\"QS700B\", axis=1).columns"
   ]
  },
  {
   "cell_type": "code",
   "execution_count": null,
   "metadata": {
    "id": "q8PSZ9pNd3bS"
   },
   "outputs": [],
   "source": [
    "# Importar librerias\n",
    "from dask_glm.datasets import make_regression\n",
    "from dask_ml.model_selection import train_test_split, KFold, GridSearchCV\n",
    "from dask_ml.linear_model import LinearRegression"
   ]
  },
  {
   "cell_type": "code",
   "execution_count": null,
   "metadata": {
    "id": "07aapBQjs9T0"
   },
   "outputs": [],
   "source": [
    "# Crear train y test set\n",
    "X_train, X_test, y_train, y_test = train_test_split(X, y, shuffle= True, test_size= 0.2)"
   ]
  },
  {
   "cell_type": "code",
   "execution_count": null,
   "metadata": {
    "id": "p0HIb5XC3e3U"
   },
   "outputs": [],
   "source": [
    "#create object 5 fold CV\n",
    "kf= KFold(n_splits= 5, shuffle= True, random_state= 42179)"
   ]
  },
  {
   "cell_type": "code",
   "execution_count": null,
   "metadata": {
    "id": "dwQGWh4gLP9S"
   },
   "outputs": [],
   "source": [
    "# Train lasso model\n",
    "X_train, y_train = make_regression()\n",
    "dask_model = LinearRegression(penalty ='l1')\n",
    "dask_model.fit(X_train, y_train)"
   ]
  },
  {
   "cell_type": "code",
   "execution_count": null,
   "metadata": {
    "id": "wuWfaRAg4M-5"
   },
   "outputs": [],
   "source": [
    "cv_results= cross_val_score(dask_model, X_train, y_train, cv= kf)"
   ]
  },
  {
   "cell_type": "code",
   "execution_count": null,
   "metadata": {
    "colab": {
     "base_uri": "https://localhost:8080/"
    },
    "id": "at88qPDx_R72",
    "outputId": "00c61e8c-c590-440d-c91c-9cf4fddd8ab9"
   },
   "outputs": [
    {
     "data": {
      "text/plain": [
       "0.08374257455249734"
      ]
     },
     "execution_count": 65,
     "metadata": {},
     "output_type": "execute_result"
    }
   ],
   "source": [
    "dask_model.score(X_train, y_train)"
   ]
  },
  {
   "cell_type": "code",
   "execution_count": null,
   "metadata": {
    "colab": {
     "base_uri": "https://localhost:8080/"
    },
    "id": "PsuvfKGGLVSh",
    "outputId": "58bd526f-8500-4e11-f57b-7a2e3302845c"
   },
   "outputs": [
    {
     "name": "stderr",
     "output_type": "stream",
     "text": [
      "distributed.nanny - WARNING - Worker exceeded 95% memory budget. Restarting\n",
      "distributed.nanny - WARNING - Restarting worker\n"
     ]
    }
   ],
   "source": [
    "# Importar librerias SCIKIT LEARN\n",
    "from sklearn.datasets import make_classification\n",
    "from sklearn.linear_model import Lasso\n",
    "from sklearn.model_selection import train_test_split, GridSearchCV\n",
    "\n",
    "X_train, X_test, y_train, y_test = train_test_split(X, y, shuffle= True, test_size= 0.2)\n",
    "\n",
    "kf= KFold(n_splits= 5, shuffle= True, random_state= 42179)\n",
    "param_grid= {\"alpha\": np.arange(0.0001, 1, 10),\n",
    "             \"solver\": [\"sag\", \"lsqr\"]}\n",
    "\n",
    "lasso = Lasso()\n",
    "lasso_cv= GridSearchCV(lasso, param_grid, cv= kf)\n",
    "lasso_cv.fit(X_train, y_train)\n"
   ]
  },
  {
   "cell_type": "code",
   "execution_count": null,
   "metadata": {
    "id": "KjJtQYQMK_du"
   },
   "outputs": [],
   "source": [
    "import joblib\n",
    "\n",
    "with joblib.parallel_backend('dask'):\n",
    "    grid_search.fit(X, y)"
   ]
  },
  {
   "cell_type": "code",
   "execution_count": null,
   "metadata": {
    "id": "5I7PLs3kCoVK"
   },
   "outputs": [],
   "source": [
    "param_dist = {'alpha': np.logspace(-4, 0, num=1000),\n",
    "              'loss': ['hinge', 'log', 'modified_huber', 'squared_hinge'],\n",
    "              'average': [True, False]}\n",
    "\n",
    "search = HyperbandSearchCV(dask_model, param_dist)\n",
    "search.fit(X_train, y_train, classes= np.unique(y_train))\n",
    "search.best_params_"
   ]
  },
  {
   "cell_type": "code",
   "execution_count": null,
   "metadata": {
    "id": "dYFQJBr_B5Pj"
   },
   "outputs": [],
   "source": [
    "search = HyperbandSearchCV(est, param_dist)\n",
    "search.fit(X, y, classes=np.unique(y))\n",
    "search.best_params_"
   ]
  },
  {
   "cell_type": "code",
   "execution_count": null,
   "metadata": {
    "id": "Ro4ICdMyPrka"
   },
   "outputs": [],
   "source": [
    "lasso_coef= dask_model.fit(X_train, y_train).coef_"
   ]
  },
  {
   "cell_type": "code",
   "execution_count": null,
   "metadata": {
    "colab": {
     "base_uri": "https://localhost:8080/"
    },
    "id": "EtWsxs1MQV5z",
    "outputId": "da609d30-dca9-4700-8240-0c5f76c41587"
   },
   "outputs": [
    {
     "name": "stdout",
     "output_type": "stream",
     "text": [
      "[-0.0032494   0.00867132  0.          0.00715194 -0.00606711  0.00584019\n",
      "  0.01232202  0.         -0.00555977 -0.00635953 -0.01021603  0.01545733\n",
      " -0.0091621  -0.01307056  0.00361968  0.0013162  -0.00122804  0.00681239\n",
      "  0.00888654 -0.01527227 -0.00876903  0.         -0.00577431 -0.0064625\n",
      " -0.00270253  0.0003248   0.00832833 -0.00299823  0.          0.0047593\n",
      "  0.          0.00157182 -0.01048705  0.00394361  0.0226951  -0.0028199\n",
      " -0.01739167  0.00232689  0.00185492  0.00121736 -0.01916736  0.\n",
      " -0.00382598  0.         -0.00593199  0.01449809 -0.00842955  0.00348225\n",
      " -0.01941773  0.00231021 -0.00207356 -0.00324682 -0.01035387 -0.00848252\n",
      " -0.02014303  0.00219257  0.00472299 -0.00643385  0.         -0.01113669\n",
      " -0.00721696  0.00952059 -0.00451396 -0.00230731  0.         -0.00760168\n",
      "  0.          0.          0.0016159   0.01333439 -0.00266513 -0.01868689\n",
      "  0.00560024  0.          0.02218286 -0.01584971 -0.00813115 -0.01819666\n",
      "  0.         -0.00730691 -0.00501397 -0.00649762 -0.00624367 -0.00299837\n",
      "  0.00639999  0.00977878  0.00742931  0.00468765  0.02809895 -0.00474882\n",
      "  0.          0.00587976  0.00671476  0.          0.          0.01242585\n",
      "  0.          0.01253317  0.01309982 -0.01059275]\n"
     ]
    }
   ],
   "source": [
    "print(lasso_coef)"
   ]
  },
  {
   "cell_type": "code",
   "execution_count": null,
   "metadata": {
    "id": "UdlxwSrXHDKV"
   },
   "outputs": [],
   "source": [
    "test_score= dask_model.score(X_test, y_test)"
   ]
  },
  {
   "cell_type": "code",
   "execution_count": null,
   "metadata": {
    "id": "0aHKUPY9QdoH"
   },
   "outputs": [],
   "source": [
    "print(names)"
   ]
  },
  {
   "cell_type": "code",
   "execution_count": null,
   "metadata": {
    "id": "fA4f94VSHAu5"
   },
   "outputs": [],
   "source": [
    "#make prediction\n",
    "y_pred = dask_model.predict(X_test)\n",
    "\n",
    "print(y_pred.compute())"
   ]
  },
  {
   "cell_type": "code",
   "execution_count": null,
   "metadata": {
    "id": "di4Wh06_LLiu"
   },
   "outputs": [],
   "source": [
    "\n",
    "#create instance of model\n",
    "model= LinearRegression()\n",
    "\n",
    "#wrap model\n",
    "dask_model = Incremental(model, scoring= \"neg_mean_squared_error\")\n",
    "\n",
    "\n",
    "#fit model to data\n",
    "for i in range(10):\n",
    "  dask_model.partial_fit(X_train, y_train)"
   ]
  },
  {
   "cell_type": "code",
   "execution_count": null,
   "metadata": {
    "id": "2m8WP2QEgYD1"
   },
   "outputs": [],
   "source": [
    "lasso= Lasso(alpha= 0.1)\n",
    "lasso_coef= lasso.fit(X, y).coef_"
   ]
  },
  {
   "cell_type": "code",
   "execution_count": null,
   "metadata": {
    "id": "MsBNbSYkx2Ei"
   },
   "outputs": [],
   "source": [
    "## Cambiar nombre a REGIÓN\n",
    "##DD_BASE_TOTAL[\"REGION\"]= DD_BASE_TOTAL['HV024'].applymap(region)"
   ]
  },
  {
   "cell_type": "code",
   "execution_count": null,
   "metadata": {
    "id": "cfuboU6gyqwx"
   },
   "outputs": [],
   "source": [
    "DD_BASE_TOTAL.groupby(\"HV024\")[\"QS700B\"].agg(np.mean).compute()"
   ]
  },
  {
   "cell_type": "code",
   "execution_count": null,
   "metadata": {
    "id": "G5Shaey9ocmI"
   },
   "outputs": [],
   "source": [
    "output1[\"REGION\"]= map(region, output1[\"HV024\"])"
   ]
  },
  {
   "cell_type": "code",
   "execution_count": null,
   "metadata": {
    "id": "hbyB3dtTzXlk"
   },
   "outputs": [],
   "source": [
    "index_region= [\"Amazonas\", \"Ancash\", \"Apurimac\", \"Arequipa\", \"Ayacucho\", \"Cajamarca\", \"Callao\", \"Cusco\", \"Huancavelica\", \"Huanuco\", \"Ica\", \"Junin\", \"La Libertad\", \"Lambayeque\", \"Lima\", \"Loreto\", \"Madre de Dios\", \"Moquegua\", \"Pasco\", \"Piura\", \"Puno\", \"San Martin\", \"Tacna\", \"Tumbes\", \"Ucayali\"]"
   ]
  },
  {
   "cell_type": "code",
   "execution_count": null,
   "metadata": {
    "id": "JIs1GWlkjZNe"
   },
   "outputs": [],
   "source": [
    "## Función región\n",
    "def region(x):\n",
    "  if x == 1:\n",
    "    print(\"Amazonas\")\n",
    "  elif x== 2:\n",
    "    print(\"Ancash\")\n",
    "  elif x== 3:\n",
    "    print(\"Apurimac\")\n",
    "  else:\n",
    "    print(\"otro\")"
   ]
  },
  {
   "cell_type": "code",
   "execution_count": null,
   "metadata": {
    "id": "30NGIdHDmPPm"
   },
   "outputs": [],
   "source": [
    "region(99)"
   ]
  },
  {
   "cell_type": "markdown",
   "metadata": {
    "id": "sjEmyxGrdGMJ"
   },
   "source": [
    "**Limpieza de base (revisar)**"
   ]
  },
  {
   "cell_type": "code",
   "execution_count": null,
   "metadata": {
    "id": "SWdvLXJIZ2gN"
   },
   "outputs": [],
   "source": [
    "DD_BASE_TOTAL.mean().compute()"
   ]
  },
  {
   "cell_type": "code",
   "execution_count": null,
   "metadata": {
    "id": "nx1cAPPCSKP9"
   },
   "outputs": [],
   "source": [
    "vars_sel= pd.read_csv(\"Bases/vars_sel.csv\")"
   ]
  },
  {
   "cell_type": "code",
   "execution_count": null,
   "metadata": {
    "id": "QH8APvdYTGo9"
   },
   "outputs": [],
   "source": [
    "vars_sel.columns = map(str.upper, vars_sel.columns)"
   ]
  },
  {
   "cell_type": "code",
   "execution_count": null,
   "metadata": {
    "id": "aX-5adIWUJID"
   },
   "outputs": [],
   "source": [
    "vars_sel= vars_sel.columns"
   ]
  },
  {
   "cell_type": "code",
   "execution_count": null,
   "metadata": {
    "id": "62W0CmzXUyU2"
   },
   "outputs": [],
   "source": [
    "print(vars_sel)"
   ]
  },
  {
   "cell_type": "code",
   "execution_count": null,
   "metadata": {
    "id": "rizaIn1tSrKZ"
   },
   "outputs": [],
   "source": [
    "DD_BASE_FINAL= DD_BASE_TOTAL[vars_sel]"
   ]
  },
  {
   "cell_type": "markdown",
   "metadata": {
    "id": "zCrIoEJ2hOaJ"
   },
   "source": [
    "Información sobre cuestionario de salud mental PHQ-9:\n",
    "- link [PHQ-9](https://www.hiv.uw.edu/page/mental-health-screening/phq-9)\n",
    "- según puntos de corte puede establecerse depresión severa, moderadamente severa, moderada, leve, mínima/inexistente.\n",
    "- el puntaje consiste en una suma simple\n",
    "\n",
    "Bases 2017-2021:\n",
    "- Las 9 preguntas salud mental son las mismas en los cuestionarios. \n",
    "- Las bases deberán ser descargasa en spss y luego pasadas a csv en python para luego ser utilizadas\n",
    "- DataFrame.to_csv()"
   ]
  },
  {
   "cell_type": "code",
   "execution_count": null,
   "metadata": {
    "id": "RxkjZdbnWrWS"
   },
   "outputs": [],
   "source": [
    "print(DD_BASE_FINAL.compute())"
   ]
  },
  {
   "cell_type": "markdown",
   "metadata": {
    "id": "VqiEkP0Nzj2D"
   },
   "source": []
  },
  {
   "cell_type": "markdown",
   "metadata": {
    "id": "64B-awzk9KqI"
   },
   "source": [
    "\n",
    "1. Crear QSNUMERO en RECH1 a partir de HVIDX\n",
    "2. Crear QSNUMERO en RECH4 a partir de IDXH4\n",
    "3. Unir RECH1 con RECH4 por HHID y QSNUMERO  -> **BASE_INDIVIDUAL**\n",
    "<br/>\n",
    "\n",
    "4. Unir RECH0 Y RECH23 por HHID -> **BASE_HOGAR**\n",
    "<br/>\n",
    "\n",
    "5. Unir BASE_INDIVIDUAL y BASE_HOGAR por HHID Y QSNUMERO -> **BASE_PREDICTORES**\n",
    "<br/>\n",
    "\n",
    "6. Unir BASE CSALUD01 con BASE_PREDICTORES por HHID y QSNUMERO -> **BASE_TOTAL** (34115)"
   ]
  },
  {
   "cell_type": "markdown",
   "metadata": {
    "id": "u1MXnzYMH01S"
   },
   "source": [
    "* RECH1-> 140K\n",
    "* RECH4 -> 140K \n",
    "* RECH23 -> 37K\n",
    "* RECH0-> 37K\n",
    "* CSALUD-> 34K"
   ]
  },
  {
   "cell_type": "markdown",
   "metadata": {
    "id": "XnPxrSF1AIf8"
   },
   "source": [
    "- CSALUD01 unir con BASE_INDIVIDUAL por HHID y QSNUMERO ->BASE1 (34115)\n",
    "- BASE1 con BASE_HOGAR por HHID\n"
   ]
  }
 ],
 "metadata": {
  "colab": {
   "collapsed_sections": [],
   "name": "Proyecto Final.ipynb",
   "provenance": []
  },
  "kernelspec": {
   "display_name": "Python 3",
   "language": "python",
   "name": "python3"
  },
  "language_info": {
   "codemirror_mode": {
    "name": "ipython",
    "version": 3
   },
   "file_extension": ".py",
   "mimetype": "text/x-python",
   "name": "python",
   "nbconvert_exporter": "python",
   "pygments_lexer": "ipython3",
   "version": "3.8.8"
  }
 },
 "nbformat": 4,
 "nbformat_minor": 1
}
